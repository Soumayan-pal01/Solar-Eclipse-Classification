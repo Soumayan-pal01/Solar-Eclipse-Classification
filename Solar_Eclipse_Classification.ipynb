{
  "nbformat": 4,
  "nbformat_minor": 0,
  "metadata": {
    "colab": {
      "name": "Solar_Eclipse_Classification",
      "provenance": [],
      "collapsed_sections": [],
      "toc_visible": true,
      "mount_file_id": "1NOHuZZoZoVmm8D4Wlf6NOd685D_IaX8d",
      "authorship_tag": "ABX9TyMW0toW9OtMy8/p1+AMoCXf",
      "include_colab_link": true
    },
    "kernelspec": {
      "name": "python3",
      "display_name": "Python 3"
    }
  },
  "cells": [
    {
      "cell_type": "markdown",
      "metadata": {
        "id": "view-in-github",
        "colab_type": "text"
      },
      "source": [
        "<a href=\"https://colab.research.google.com/github/Soumayan-pal01/Solar-Eclipse-Classification/blob/main/Solar_Eclipse_Classification.ipynb\" target=\"_parent\"><img src=\"https://colab.research.google.com/assets/colab-badge.svg\" alt=\"Open In Colab\"/></a>"
      ]
    },
    {
      "cell_type": "code",
      "metadata": {
        "id": "ObWz3PkOQUmg"
      },
      "source": [
        "import numpy as np\n",
        "import pandas as pd\n",
        "import seaborn as sns\n",
        "import matplotlib.pyplot as plt\n",
        "\n",
        "from datetime import timedelta\n",
        "import re\n",
        "from sklearn.metrics import accuracy_score\n",
        "from datetime import datetime"
      ],
      "execution_count": 3,
      "outputs": []
    },
    {
      "cell_type": "code",
      "metadata": {
        "id": "WKlzch24QwyC"
      },
      "source": [
        "train_df=pd.read_csv(\"/content/drive/MyDrive/Solar Eclipse Classification/train.csv\")"
      ],
      "execution_count": 4,
      "outputs": []
    },
    {
      "cell_type": "code",
      "metadata": {
        "id": "yRTjgfgMQ4Ap"
      },
      "source": [
        "test_df=pd.read_csv(\"/content/drive/MyDrive/Solar Eclipse Classification/test.csv\")"
      ],
      "execution_count": 5,
      "outputs": []
    },
    {
      "cell_type": "code",
      "metadata": {
        "id": "sjPFZCp5RCwd",
        "colab": {
          "base_uri": "https://localhost:8080/",
          "height": 312
        },
        "outputId": "997f1758-2a2b-42f2-c128-7daff78b7d7d"
      },
      "source": [
        "train_df.head()"
      ],
      "execution_count": 6,
      "outputs": [
        {
          "output_type": "execute_result",
          "data": {
            "text/html": [
              "<div>\n",
              "<style scoped>\n",
              "    .dataframe tbody tr th:only-of-type {\n",
              "        vertical-align: middle;\n",
              "    }\n",
              "\n",
              "    .dataframe tbody tr th {\n",
              "        vertical-align: top;\n",
              "    }\n",
              "\n",
              "    .dataframe thead th {\n",
              "        text-align: right;\n",
              "    }\n",
              "</style>\n",
              "<table border=\"1\" class=\"dataframe\">\n",
              "  <thead>\n",
              "    <tr style=\"text-align: right;\">\n",
              "      <th></th>\n",
              "      <th>Unnamed: 0</th>\n",
              "      <th>Catalog Number</th>\n",
              "      <th>Calendar Date</th>\n",
              "      <th>Eclipse Time</th>\n",
              "      <th>Delta T (s)</th>\n",
              "      <th>Lunation Number</th>\n",
              "      <th>Saros Number</th>\n",
              "      <th>Eclipse Type</th>\n",
              "      <th>Gamma</th>\n",
              "      <th>Eclipse Magnitude</th>\n",
              "      <th>Latitude</th>\n",
              "      <th>Longitude</th>\n",
              "      <th>Sun Altitude</th>\n",
              "      <th>Sun Azimuth</th>\n",
              "      <th>Path Width (km)</th>\n",
              "      <th>Central Duration</th>\n",
              "    </tr>\n",
              "  </thead>\n",
              "  <tbody>\n",
              "    <tr>\n",
              "      <th>0</th>\n",
              "      <td>0</td>\n",
              "      <td>1</td>\n",
              "      <td>-1999 June 12</td>\n",
              "      <td>3:14:51</td>\n",
              "      <td>NaN</td>\n",
              "      <td>-49456</td>\n",
              "      <td>NaN</td>\n",
              "      <td>T</td>\n",
              "      <td>NaN</td>\n",
              "      <td>NaN</td>\n",
              "      <td>6.0N</td>\n",
              "      <td>33.3W</td>\n",
              "      <td>NaN</td>\n",
              "      <td>344</td>\n",
              "      <td>247</td>\n",
              "      <td>06m37s</td>\n",
              "    </tr>\n",
              "    <tr>\n",
              "      <th>1</th>\n",
              "      <td>1</td>\n",
              "      <td>2</td>\n",
              "      <td>-1999 December 5</td>\n",
              "      <td>23:45:23</td>\n",
              "      <td>46426.0</td>\n",
              "      <td>-49450</td>\n",
              "      <td>10.0</td>\n",
              "      <td>A</td>\n",
              "      <td>-0.2317</td>\n",
              "      <td>0.9382</td>\n",
              "      <td>32.9S</td>\n",
              "      <td>10.8E</td>\n",
              "      <td>76.0</td>\n",
              "      <td>21</td>\n",
              "      <td>236</td>\n",
              "      <td>06m44s</td>\n",
              "    </tr>\n",
              "    <tr>\n",
              "      <th>2</th>\n",
              "      <td>2</td>\n",
              "      <td>3</td>\n",
              "      <td>-1998 June 1</td>\n",
              "      <td>18:09:16</td>\n",
              "      <td>46415.0</td>\n",
              "      <td>-49444</td>\n",
              "      <td>15.0</td>\n",
              "      <td>T</td>\n",
              "      <td>0.4994</td>\n",
              "      <td>1.0284</td>\n",
              "      <td>46.2N</td>\n",
              "      <td>83.4E</td>\n",
              "      <td>60.0</td>\n",
              "      <td>151</td>\n",
              "      <td>111</td>\n",
              "      <td>02m15s</td>\n",
              "    </tr>\n",
              "    <tr>\n",
              "      <th>3</th>\n",
              "      <td>3</td>\n",
              "      <td>4</td>\n",
              "      <td>-1998 November 25</td>\n",
              "      <td>5:57:03</td>\n",
              "      <td>46403.0</td>\n",
              "      <td>-49438</td>\n",
              "      <td>20.0</td>\n",
              "      <td>A</td>\n",
              "      <td>-0.9045</td>\n",
              "      <td>0.9806</td>\n",
              "      <td>67.8S</td>\n",
              "      <td>143.8W</td>\n",
              "      <td>25.0</td>\n",
              "      <td>74</td>\n",
              "      <td>162</td>\n",
              "      <td>01m14s</td>\n",
              "    </tr>\n",
              "    <tr>\n",
              "      <th>4</th>\n",
              "      <td>4</td>\n",
              "      <td>5</td>\n",
              "      <td>-1997 April 22</td>\n",
              "      <td>13:19:56</td>\n",
              "      <td>46393.0</td>\n",
              "      <td>-49433</td>\n",
              "      <td>-13.0</td>\n",
              "      <td>P</td>\n",
              "      <td>-1.4670</td>\n",
              "      <td>0.1611</td>\n",
              "      <td>60.6S</td>\n",
              "      <td>106.4W</td>\n",
              "      <td>0.0</td>\n",
              "      <td>281</td>\n",
              "      <td>NaN</td>\n",
              "      <td>NaN</td>\n",
              "    </tr>\n",
              "  </tbody>\n",
              "</table>\n",
              "</div>"
            ],
            "text/plain": [
              "   Unnamed: 0  Catalog Number  ... Path Width (km) Central Duration\n",
              "0           0               1  ...             247           06m37s\n",
              "1           1               2  ...             236           06m44s\n",
              "2           2               3  ...             111           02m15s\n",
              "3           3               4  ...             162           01m14s\n",
              "4           4               5  ...             NaN              NaN\n",
              "\n",
              "[5 rows x 16 columns]"
            ]
          },
          "metadata": {
            "tags": []
          },
          "execution_count": 6
        }
      ]
    },
    {
      "cell_type": "code",
      "metadata": {
        "id": "hQltt631RDVE",
        "colab": {
          "base_uri": "https://localhost:8080/",
          "height": 312
        },
        "outputId": "c4fbdb7a-07f9-40ae-b802-10301f6f0481"
      },
      "source": [
        "test_df.head()"
      ],
      "execution_count": 7,
      "outputs": [
        {
          "output_type": "execute_result",
          "data": {
            "text/html": [
              "<div>\n",
              "<style scoped>\n",
              "    .dataframe tbody tr th:only-of-type {\n",
              "        vertical-align: middle;\n",
              "    }\n",
              "\n",
              "    .dataframe tbody tr th {\n",
              "        vertical-align: top;\n",
              "    }\n",
              "\n",
              "    .dataframe thead th {\n",
              "        text-align: right;\n",
              "    }\n",
              "</style>\n",
              "<table border=\"1\" class=\"dataframe\">\n",
              "  <thead>\n",
              "    <tr style=\"text-align: right;\">\n",
              "      <th></th>\n",
              "      <th>Unnamed: 0</th>\n",
              "      <th>Catalog Number</th>\n",
              "      <th>Calendar Date</th>\n",
              "      <th>Eclipse Time</th>\n",
              "      <th>Delta T (s)</th>\n",
              "      <th>Lunation Number</th>\n",
              "      <th>Saros Number</th>\n",
              "      <th>Eclipse Type</th>\n",
              "      <th>Gamma</th>\n",
              "      <th>Eclipse Magnitude</th>\n",
              "      <th>Latitude</th>\n",
              "      <th>Longitude</th>\n",
              "      <th>Sun Altitude</th>\n",
              "      <th>Sun Azimuth</th>\n",
              "      <th>Path Width (km)</th>\n",
              "      <th>Central Duration</th>\n",
              "    </tr>\n",
              "  </thead>\n",
              "  <tbody>\n",
              "    <tr>\n",
              "      <th>0</th>\n",
              "      <td>9518</td>\n",
              "      <td>9519</td>\n",
              "      <td>2005 April 8</td>\n",
              "      <td>20:36:51</td>\n",
              "      <td>65.0</td>\n",
              "      <td>65</td>\n",
              "      <td>129.0</td>\n",
              "      <td>H</td>\n",
              "      <td>-0.3473</td>\n",
              "      <td>1.0074</td>\n",
              "      <td>10.6S</td>\n",
              "      <td>119.0W</td>\n",
              "      <td>70.0</td>\n",
              "      <td>332</td>\n",
              "      <td>27</td>\n",
              "      <td>00m42s</td>\n",
              "    </tr>\n",
              "    <tr>\n",
              "      <th>1</th>\n",
              "      <td>9519</td>\n",
              "      <td>9520</td>\n",
              "      <td>2005 October 3</td>\n",
              "      <td>10:32:47</td>\n",
              "      <td>65.0</td>\n",
              "      <td>71</td>\n",
              "      <td>134.0</td>\n",
              "      <td>A</td>\n",
              "      <td>0.3306</td>\n",
              "      <td>0.9576</td>\n",
              "      <td>12.9N</td>\n",
              "      <td>28.7E</td>\n",
              "      <td>71.0</td>\n",
              "      <td>209</td>\n",
              "      <td>162</td>\n",
              "      <td>04m32s</td>\n",
              "    </tr>\n",
              "    <tr>\n",
              "      <th>2</th>\n",
              "      <td>9520</td>\n",
              "      <td>9521</td>\n",
              "      <td>2006 March 29</td>\n",
              "      <td>10:12:23</td>\n",
              "      <td>65.0</td>\n",
              "      <td>77</td>\n",
              "      <td>139.0</td>\n",
              "      <td>T</td>\n",
              "      <td>0.3843</td>\n",
              "      <td>1.0515</td>\n",
              "      <td>23.2N</td>\n",
              "      <td>16.7E</td>\n",
              "      <td>67.0</td>\n",
              "      <td>149</td>\n",
              "      <td>184</td>\n",
              "      <td>04m07s</td>\n",
              "    </tr>\n",
              "    <tr>\n",
              "      <th>3</th>\n",
              "      <td>9521</td>\n",
              "      <td>9522</td>\n",
              "      <td>2006 September 22</td>\n",
              "      <td>11:41:16</td>\n",
              "      <td>65.0</td>\n",
              "      <td>83</td>\n",
              "      <td>144.0</td>\n",
              "      <td>A</td>\n",
              "      <td>-0.4062</td>\n",
              "      <td>0.9352</td>\n",
              "      <td>20.6S</td>\n",
              "      <td>9.1W</td>\n",
              "      <td>66.0</td>\n",
              "      <td>31</td>\n",
              "      <td>261</td>\n",
              "      <td>07m09s</td>\n",
              "    </tr>\n",
              "    <tr>\n",
              "      <th>4</th>\n",
              "      <td>9522</td>\n",
              "      <td>9523</td>\n",
              "      <td>2007 March 19</td>\n",
              "      <td>2:32:57</td>\n",
              "      <td>65.0</td>\n",
              "      <td>89</td>\n",
              "      <td>149.0</td>\n",
              "      <td>P</td>\n",
              "      <td>1.0728</td>\n",
              "      <td>0.8756</td>\n",
              "      <td>61.0N</td>\n",
              "      <td>55.5E</td>\n",
              "      <td>0.0</td>\n",
              "      <td>92</td>\n",
              "      <td>NaN</td>\n",
              "      <td>NaN</td>\n",
              "    </tr>\n",
              "  </tbody>\n",
              "</table>\n",
              "</div>"
            ],
            "text/plain": [
              "   Unnamed: 0  Catalog Number  ... Path Width (km) Central Duration\n",
              "0        9518            9519  ...              27           00m42s\n",
              "1        9519            9520  ...             162           04m32s\n",
              "2        9520            9521  ...             184           04m07s\n",
              "3        9521            9522  ...             261           07m09s\n",
              "4        9522            9523  ...             NaN              NaN\n",
              "\n",
              "[5 rows x 16 columns]"
            ]
          },
          "metadata": {
            "tags": []
          },
          "execution_count": 7
        }
      ]
    },
    {
      "cell_type": "code",
      "metadata": {
        "id": "D_jXLhLZ3riK"
      },
      "source": [
        "frames = [train_df, test_df]\n",
        "df = pd.concat(frames, sort=False)"
      ],
      "execution_count": 8,
      "outputs": []
    },
    {
      "cell_type": "code",
      "metadata": {
        "id": "9--eeNoY0lcp",
        "colab": {
          "base_uri": "https://localhost:8080/"
        },
        "outputId": "c51c657e-a931-4c5f-e185-df124d51f88b"
      },
      "source": [
        "df.info()"
      ],
      "execution_count": 9,
      "outputs": [
        {
          "output_type": "stream",
          "text": [
            "<class 'pandas.core.frame.DataFrame'>\n",
            "Int64Index: 11898 entries, 0 to 2379\n",
            "Data columns (total 16 columns):\n",
            " #   Column             Non-Null Count  Dtype  \n",
            "---  ------             --------------  -----  \n",
            " 0   Unnamed: 0         11898 non-null  int64  \n",
            " 1   Catalog Number     11898 non-null  int64  \n",
            " 2   Calendar Date      11898 non-null  object \n",
            " 3   Eclipse Time       11898 non-null  object \n",
            " 4   Delta T (s)        11874 non-null  float64\n",
            " 5   Lunation Number    11898 non-null  int64  \n",
            " 6   Saros Number       11886 non-null  float64\n",
            " 7   Eclipse Type       11898 non-null  object \n",
            " 8   Gamma              11878 non-null  float64\n",
            " 9   Eclipse Magnitude  11868 non-null  float64\n",
            " 10  Latitude           11898 non-null  object \n",
            " 11  Longitude          11898 non-null  object \n",
            " 12  Sun Altitude       11881 non-null  float64\n",
            " 13  Sun Azimuth        11898 non-null  int64  \n",
            " 14  Path Width (km)    7698 non-null   object \n",
            " 15  Central Duration   7698 non-null   object \n",
            "dtypes: float64(5), int64(4), object(7)\n",
            "memory usage: 1.5+ MB\n"
          ],
          "name": "stdout"
        }
      ]
    },
    {
      "cell_type": "code",
      "metadata": {
        "id": "tarnhSxFzx7X",
        "colab": {
          "base_uri": "https://localhost:8080/"
        },
        "outputId": "ac6a130f-dd8f-4fb1-ba88-2e62bedf880f"
      },
      "source": [
        "df.shape"
      ],
      "execution_count": 10,
      "outputs": [
        {
          "output_type": "execute_result",
          "data": {
            "text/plain": [
              "(11898, 16)"
            ]
          },
          "metadata": {
            "tags": []
          },
          "execution_count": 10
        }
      ]
    },
    {
      "cell_type": "code",
      "metadata": {
        "id": "vCvh3apPz271",
        "colab": {
          "base_uri": "https://localhost:8080/"
        },
        "outputId": "ca2fb0df-b791-4f62-fbb9-41dbfc83d471"
      },
      "source": [
        "df.columns"
      ],
      "execution_count": 11,
      "outputs": [
        {
          "output_type": "execute_result",
          "data": {
            "text/plain": [
              "Index(['Unnamed: 0', 'Catalog Number', 'Calendar Date', 'Eclipse Time',\n",
              "       'Delta T (s)', 'Lunation Number', 'Saros Number', 'Eclipse Type',\n",
              "       'Gamma', 'Eclipse Magnitude', 'Latitude', 'Longitude', 'Sun Altitude',\n",
              "       'Sun Azimuth', 'Path Width (km)', 'Central Duration'],\n",
              "      dtype='object')"
            ]
          },
          "metadata": {
            "tags": []
          },
          "execution_count": 11
        }
      ]
    },
    {
      "cell_type": "code",
      "metadata": {
        "id": "kuIS7K27z-N0",
        "colab": {
          "base_uri": "https://localhost:8080/"
        },
        "outputId": "7d616a50-c4bb-40b0-f4a3-3724f1c37c4e"
      },
      "source": [
        "df.columns = df.columns.str.replace(' ','_') # replacing space between words with underscore\n",
        "df.columns"
      ],
      "execution_count": 12,
      "outputs": [
        {
          "output_type": "execute_result",
          "data": {
            "text/plain": [
              "Index(['Unnamed:_0', 'Catalog_Number', 'Calendar_Date', 'Eclipse_Time',\n",
              "       'Delta_T_(s)', 'Lunation_Number', 'Saros_Number', 'Eclipse_Type',\n",
              "       'Gamma', 'Eclipse_Magnitude', 'Latitude', 'Longitude', 'Sun_Altitude',\n",
              "       'Sun_Azimuth', 'Path_Width_(km)', 'Central_Duration'],\n",
              "      dtype='object')"
            ]
          },
          "metadata": {
            "tags": []
          },
          "execution_count": 12
        }
      ]
    },
    {
      "cell_type": "code",
      "metadata": {
        "id": "zj9rPI2oROw1",
        "colab": {
          "base_uri": "https://localhost:8080/"
        },
        "outputId": "e120b029-6d39-4291-bf8a-99a212f2e73d"
      },
      "source": [
        "df.dtypes"
      ],
      "execution_count": 13,
      "outputs": [
        {
          "output_type": "execute_result",
          "data": {
            "text/plain": [
              "Unnamed:_0             int64\n",
              "Catalog_Number         int64\n",
              "Calendar_Date         object\n",
              "Eclipse_Time          object\n",
              "Delta_T_(s)          float64\n",
              "Lunation_Number        int64\n",
              "Saros_Number         float64\n",
              "Eclipse_Type          object\n",
              "Gamma                float64\n",
              "Eclipse_Magnitude    float64\n",
              "Latitude              object\n",
              "Longitude             object\n",
              "Sun_Altitude         float64\n",
              "Sun_Azimuth            int64\n",
              "Path_Width_(km)       object\n",
              "Central_Duration      object\n",
              "dtype: object"
            ]
          },
          "metadata": {
            "tags": []
          },
          "execution_count": 13
        }
      ]
    },
    {
      "cell_type": "code",
      "metadata": {
        "id": "wfC-S3yB0ej7",
        "colab": {
          "base_uri": "https://localhost:8080/"
        },
        "outputId": "4f629255-3d65-41dc-9529-99ca51327b0d"
      },
      "source": [
        "df['Eclipse_Type'].value_counts()"
      ],
      "execution_count": 14,
      "outputs": [
        {
          "output_type": "execute_result",
          "data": {
            "text/plain": [
              "P     3875\n",
              "A     3755\n",
              "T     3049\n",
              "H      502\n",
              "Pb     163\n",
              "Pe     162\n",
              "Am      72\n",
              "Tm      72\n",
              "An      36\n",
              "A-      34\n",
              "A+      34\n",
              "H3      26\n",
              "As      25\n",
              "H2      24\n",
              "Hm      17\n",
              "T-      17\n",
              "Tn      14\n",
              "Ts      12\n",
              "T+       9\n",
              "Name: Eclipse_Type, dtype: int64"
            ]
          },
          "metadata": {
            "tags": []
          },
          "execution_count": 14
        }
      ]
    },
    {
      "cell_type": "code",
      "metadata": {
        "id": "AYu5Ulgb0exi"
      },
      "source": [
        "def EclipseClean(x):  # only 4 types of lunar eclipse: P, A, T, H \n",
        "    if 'P' in x:\n",
        "        return('P')\n",
        "    if 'A' in x:\n",
        "        return('A')\n",
        "    if 'T' in x:\n",
        "        return('T')\n",
        "    if 'H' in x:\n",
        "        return('H')"
      ],
      "execution_count": 15,
      "outputs": []
    },
    {
      "cell_type": "code",
      "metadata": {
        "id": "b8Bt0CHb2YbT",
        "colab": {
          "base_uri": "https://localhost:8080/"
        },
        "outputId": "fb6ccc86-0aee-4ae7-f7bf-4b4af091db23"
      },
      "source": [
        "df['Eclipse_Type'] = list(map(EclipseClean,df['Eclipse_Type']))\n",
        "df['Eclipse_Type'].value_counts()"
      ],
      "execution_count": 16,
      "outputs": [
        {
          "output_type": "execute_result",
          "data": {
            "text/plain": [
              "P    4200\n",
              "A    3956\n",
              "T    3173\n",
              "H     569\n",
              "Name: Eclipse_Type, dtype: int64"
            ]
          },
          "metadata": {
            "tags": []
          },
          "execution_count": 16
        }
      ]
    },
    {
      "cell_type": "code",
      "metadata": {
        "id": "NwPBUUoM0e7N",
        "colab": {
          "base_uri": "https://localhost:8080/"
        },
        "outputId": "f3ae9610-c70b-4f2a-9d70-3988e44bc026"
      },
      "source": [
        "len(df['Eclipse_Type'].value_counts())"
      ],
      "execution_count": 17,
      "outputs": [
        {
          "output_type": "execute_result",
          "data": {
            "text/plain": [
              "4"
            ]
          },
          "metadata": {
            "tags": []
          },
          "execution_count": 17
        }
      ]
    },
    {
      "cell_type": "code",
      "metadata": {
        "id": "lhmx0RQE0e9y"
      },
      "source": [
        "df = df.drop(df[df.Eclipse_Type == 'H'].index) #removing hybrid category to avoid unnecessary outliers"
      ],
      "execution_count": 18,
      "outputs": []
    },
    {
      "cell_type": "code",
      "metadata": {
        "id": "a9aSthbE0fAg",
        "colab": {
          "base_uri": "https://localhost:8080/"
        },
        "outputId": "47140ba7-dd39-43a5-e3d9-d414119e90b5"
      },
      "source": [
        "df['Eclipse_Type'].value_counts()"
      ],
      "execution_count": 19,
      "outputs": [
        {
          "output_type": "execute_result",
          "data": {
            "text/plain": [
              "P    4138\n",
              "A    3887\n",
              "T    3110\n",
              "Name: Eclipse_Type, dtype: int64"
            ]
          },
          "metadata": {
            "tags": []
          },
          "execution_count": 19
        }
      ]
    },
    {
      "cell_type": "code",
      "metadata": {
        "id": "wAUqKnKe0fDR",
        "colab": {
          "base_uri": "https://localhost:8080/",
          "height": 248
        },
        "outputId": "bd8d2091-a645-49ad-c518-ed01ed40f036"
      },
      "source": [
        "df['Latitude_Number'] = df['Latitude'].str.replace('([A-Z]+)', '')\n",
        "df['Latitude_Letter'] = df['Latitude'].str.extract('([A-Z]+)')\n",
        "\n",
        "df['Longitude_Number'] = df['Longitude'].str.replace('([A-Z]+)', '')\n",
        "df['Longitude_Letter'] = df['Longitude'].str.extract('([A-Z]+)')\n",
        "\n",
        "df.drop(columns =[\"Latitude\", \"Longitude\"], inplace = True) \n",
        "df.head()"
      ],
      "execution_count": 20,
      "outputs": [
        {
          "output_type": "execute_result",
          "data": {
            "text/html": [
              "<div>\n",
              "<style scoped>\n",
              "    .dataframe tbody tr th:only-of-type {\n",
              "        vertical-align: middle;\n",
              "    }\n",
              "\n",
              "    .dataframe tbody tr th {\n",
              "        vertical-align: top;\n",
              "    }\n",
              "\n",
              "    .dataframe thead th {\n",
              "        text-align: right;\n",
              "    }\n",
              "</style>\n",
              "<table border=\"1\" class=\"dataframe\">\n",
              "  <thead>\n",
              "    <tr style=\"text-align: right;\">\n",
              "      <th></th>\n",
              "      <th>Unnamed:_0</th>\n",
              "      <th>Catalog_Number</th>\n",
              "      <th>Calendar_Date</th>\n",
              "      <th>Eclipse_Time</th>\n",
              "      <th>Delta_T_(s)</th>\n",
              "      <th>Lunation_Number</th>\n",
              "      <th>Saros_Number</th>\n",
              "      <th>Eclipse_Type</th>\n",
              "      <th>Gamma</th>\n",
              "      <th>Eclipse_Magnitude</th>\n",
              "      <th>Sun_Altitude</th>\n",
              "      <th>Sun_Azimuth</th>\n",
              "      <th>Path_Width_(km)</th>\n",
              "      <th>Central_Duration</th>\n",
              "      <th>Latitude_Number</th>\n",
              "      <th>Latitude_Letter</th>\n",
              "      <th>Longitude_Number</th>\n",
              "      <th>Longitude_Letter</th>\n",
              "    </tr>\n",
              "  </thead>\n",
              "  <tbody>\n",
              "    <tr>\n",
              "      <th>1</th>\n",
              "      <td>1</td>\n",
              "      <td>2</td>\n",
              "      <td>-1999 December 5</td>\n",
              "      <td>23:45:23</td>\n",
              "      <td>46426.0</td>\n",
              "      <td>-49450</td>\n",
              "      <td>10.0</td>\n",
              "      <td>A</td>\n",
              "      <td>-0.2317</td>\n",
              "      <td>0.9382</td>\n",
              "      <td>76.0</td>\n",
              "      <td>21</td>\n",
              "      <td>236</td>\n",
              "      <td>06m44s</td>\n",
              "      <td>32.9</td>\n",
              "      <td>S</td>\n",
              "      <td>10.8</td>\n",
              "      <td>E</td>\n",
              "    </tr>\n",
              "    <tr>\n",
              "      <th>2</th>\n",
              "      <td>2</td>\n",
              "      <td>3</td>\n",
              "      <td>-1998 June 1</td>\n",
              "      <td>18:09:16</td>\n",
              "      <td>46415.0</td>\n",
              "      <td>-49444</td>\n",
              "      <td>15.0</td>\n",
              "      <td>T</td>\n",
              "      <td>0.4994</td>\n",
              "      <td>1.0284</td>\n",
              "      <td>60.0</td>\n",
              "      <td>151</td>\n",
              "      <td>111</td>\n",
              "      <td>02m15s</td>\n",
              "      <td>46.2</td>\n",
              "      <td>N</td>\n",
              "      <td>83.4</td>\n",
              "      <td>E</td>\n",
              "    </tr>\n",
              "    <tr>\n",
              "      <th>3</th>\n",
              "      <td>3</td>\n",
              "      <td>4</td>\n",
              "      <td>-1998 November 25</td>\n",
              "      <td>5:57:03</td>\n",
              "      <td>46403.0</td>\n",
              "      <td>-49438</td>\n",
              "      <td>20.0</td>\n",
              "      <td>A</td>\n",
              "      <td>-0.9045</td>\n",
              "      <td>0.9806</td>\n",
              "      <td>25.0</td>\n",
              "      <td>74</td>\n",
              "      <td>162</td>\n",
              "      <td>01m14s</td>\n",
              "      <td>67.8</td>\n",
              "      <td>S</td>\n",
              "      <td>143.8</td>\n",
              "      <td>W</td>\n",
              "    </tr>\n",
              "    <tr>\n",
              "      <th>4</th>\n",
              "      <td>4</td>\n",
              "      <td>5</td>\n",
              "      <td>-1997 April 22</td>\n",
              "      <td>13:19:56</td>\n",
              "      <td>46393.0</td>\n",
              "      <td>-49433</td>\n",
              "      <td>-13.0</td>\n",
              "      <td>P</td>\n",
              "      <td>-1.4670</td>\n",
              "      <td>0.1611</td>\n",
              "      <td>0.0</td>\n",
              "      <td>281</td>\n",
              "      <td>NaN</td>\n",
              "      <td>NaN</td>\n",
              "      <td>60.6</td>\n",
              "      <td>S</td>\n",
              "      <td>106.4</td>\n",
              "      <td>W</td>\n",
              "    </tr>\n",
              "    <tr>\n",
              "      <th>5</th>\n",
              "      <td>5</td>\n",
              "      <td>6</td>\n",
              "      <td>-1997 May 22</td>\n",
              "      <td>2:45:35</td>\n",
              "      <td>46391.0</td>\n",
              "      <td>-49432</td>\n",
              "      <td>25.0</td>\n",
              "      <td>P</td>\n",
              "      <td>1.3253</td>\n",
              "      <td>0.4035</td>\n",
              "      <td>0.0</td>\n",
              "      <td>55</td>\n",
              "      <td>NaN</td>\n",
              "      <td>NaN</td>\n",
              "      <td>61.7</td>\n",
              "      <td>N</td>\n",
              "      <td>151.7</td>\n",
              "      <td>W</td>\n",
              "    </tr>\n",
              "  </tbody>\n",
              "</table>\n",
              "</div>"
            ],
            "text/plain": [
              "   Unnamed:_0  Catalog_Number  ... Longitude_Number Longitude_Letter\n",
              "1           1               2  ...             10.8                E\n",
              "2           2               3  ...             83.4                E\n",
              "3           3               4  ...            143.8                W\n",
              "4           4               5  ...            106.4                W\n",
              "5           5               6  ...            151.7                W\n",
              "\n",
              "[5 rows x 18 columns]"
            ]
          },
          "metadata": {
            "tags": []
          },
          "execution_count": 20
        }
      ]
    },
    {
      "cell_type": "code",
      "metadata": {
        "id": "Nnqwgt_G0fFq",
        "colab": {
          "base_uri": "https://localhost:8080/"
        },
        "outputId": "ef5cae0b-6bcd-4a69-f6c5-c6cb337e8758"
      },
      "source": [
        "\n",
        "df.isnull().sum()"
      ],
      "execution_count": 21,
      "outputs": [
        {
          "output_type": "execute_result",
          "data": {
            "text/plain": [
              "Unnamed:_0              0\n",
              "Catalog_Number          0\n",
              "Calendar_Date           0\n",
              "Eclipse_Time            0\n",
              "Delta_T_(s)            23\n",
              "Lunation_Number         0\n",
              "Saros_Number           11\n",
              "Eclipse_Type            0\n",
              "Gamma                  19\n",
              "Eclipse_Magnitude      27\n",
              "Sun_Altitude           16\n",
              "Sun_Azimuth             0\n",
              "Path_Width_(km)      4138\n",
              "Central_Duration     4138\n",
              "Latitude_Number         0\n",
              "Latitude_Letter         0\n",
              "Longitude_Number        0\n",
              "Longitude_Letter        0\n",
              "dtype: int64"
            ]
          },
          "metadata": {
            "tags": []
          },
          "execution_count": 21
        }
      ]
    },
    {
      "cell_type": "code",
      "metadata": {
        "id": "wleyTuHy0fIG"
      },
      "source": [
        "df.dropna(how='any', subset=['Delta_T_(s)','Saros_Number','Gamma','Eclipse_Magnitude','Sun_Altitude'], inplace=True)"
      ],
      "execution_count": 22,
      "outputs": []
    },
    {
      "cell_type": "code",
      "metadata": {
        "id": "W6QXAhcI0fK4"
      },
      "source": [
        "df = df.drop([\"Path_Width_(km)\", \"Central_Duration\",'Unnamed:_0','Catalog_Number'], axis=1)"
      ],
      "execution_count": 23,
      "outputs": []
    },
    {
      "cell_type": "code",
      "metadata": {
        "id": "-ztQJz8X0fNj",
        "colab": {
          "base_uri": "https://localhost:8080/"
        },
        "outputId": "28b6885c-b99d-40be-815a-08c9d0408cdb"
      },
      "source": [
        "df.isnull().sum()"
      ],
      "execution_count": 24,
      "outputs": [
        {
          "output_type": "execute_result",
          "data": {
            "text/plain": [
              "Calendar_Date        0\n",
              "Eclipse_Time         0\n",
              "Delta_T_(s)          0\n",
              "Lunation_Number      0\n",
              "Saros_Number         0\n",
              "Eclipse_Type         0\n",
              "Gamma                0\n",
              "Eclipse_Magnitude    0\n",
              "Sun_Altitude         0\n",
              "Sun_Azimuth          0\n",
              "Latitude_Number      0\n",
              "Latitude_Letter      0\n",
              "Longitude_Number     0\n",
              "Longitude_Letter     0\n",
              "dtype: int64"
            ]
          },
          "metadata": {
            "tags": []
          },
          "execution_count": 24
        }
      ]
    },
    {
      "cell_type": "code",
      "metadata": {
        "id": "Izr9ihhP0fQI",
        "colab": {
          "base_uri": "https://localhost:8080/",
          "height": 487
        },
        "outputId": "1ba905c2-9c03-46ca-dfa5-87b2fbc4fda1"
      },
      "source": [
        "df"
      ],
      "execution_count": 25,
      "outputs": [
        {
          "output_type": "execute_result",
          "data": {
            "text/html": [
              "<div>\n",
              "<style scoped>\n",
              "    .dataframe tbody tr th:only-of-type {\n",
              "        vertical-align: middle;\n",
              "    }\n",
              "\n",
              "    .dataframe tbody tr th {\n",
              "        vertical-align: top;\n",
              "    }\n",
              "\n",
              "    .dataframe thead th {\n",
              "        text-align: right;\n",
              "    }\n",
              "</style>\n",
              "<table border=\"1\" class=\"dataframe\">\n",
              "  <thead>\n",
              "    <tr style=\"text-align: right;\">\n",
              "      <th></th>\n",
              "      <th>Calendar_Date</th>\n",
              "      <th>Eclipse_Time</th>\n",
              "      <th>Delta_T_(s)</th>\n",
              "      <th>Lunation_Number</th>\n",
              "      <th>Saros_Number</th>\n",
              "      <th>Eclipse_Type</th>\n",
              "      <th>Gamma</th>\n",
              "      <th>Eclipse_Magnitude</th>\n",
              "      <th>Sun_Altitude</th>\n",
              "      <th>Sun_Azimuth</th>\n",
              "      <th>Latitude_Number</th>\n",
              "      <th>Latitude_Letter</th>\n",
              "      <th>Longitude_Number</th>\n",
              "      <th>Longitude_Letter</th>\n",
              "    </tr>\n",
              "  </thead>\n",
              "  <tbody>\n",
              "    <tr>\n",
              "      <th>1</th>\n",
              "      <td>-1999 December 5</td>\n",
              "      <td>23:45:23</td>\n",
              "      <td>46426.0</td>\n",
              "      <td>-49450</td>\n",
              "      <td>10.0</td>\n",
              "      <td>A</td>\n",
              "      <td>-0.2317</td>\n",
              "      <td>0.9382</td>\n",
              "      <td>76.0</td>\n",
              "      <td>21</td>\n",
              "      <td>32.9</td>\n",
              "      <td>S</td>\n",
              "      <td>10.8</td>\n",
              "      <td>E</td>\n",
              "    </tr>\n",
              "    <tr>\n",
              "      <th>2</th>\n",
              "      <td>-1998 June 1</td>\n",
              "      <td>18:09:16</td>\n",
              "      <td>46415.0</td>\n",
              "      <td>-49444</td>\n",
              "      <td>15.0</td>\n",
              "      <td>T</td>\n",
              "      <td>0.4994</td>\n",
              "      <td>1.0284</td>\n",
              "      <td>60.0</td>\n",
              "      <td>151</td>\n",
              "      <td>46.2</td>\n",
              "      <td>N</td>\n",
              "      <td>83.4</td>\n",
              "      <td>E</td>\n",
              "    </tr>\n",
              "    <tr>\n",
              "      <th>3</th>\n",
              "      <td>-1998 November 25</td>\n",
              "      <td>5:57:03</td>\n",
              "      <td>46403.0</td>\n",
              "      <td>-49438</td>\n",
              "      <td>20.0</td>\n",
              "      <td>A</td>\n",
              "      <td>-0.9045</td>\n",
              "      <td>0.9806</td>\n",
              "      <td>25.0</td>\n",
              "      <td>74</td>\n",
              "      <td>67.8</td>\n",
              "      <td>S</td>\n",
              "      <td>143.8</td>\n",
              "      <td>W</td>\n",
              "    </tr>\n",
              "    <tr>\n",
              "      <th>4</th>\n",
              "      <td>-1997 April 22</td>\n",
              "      <td>13:19:56</td>\n",
              "      <td>46393.0</td>\n",
              "      <td>-49433</td>\n",
              "      <td>-13.0</td>\n",
              "      <td>P</td>\n",
              "      <td>-1.4670</td>\n",
              "      <td>0.1611</td>\n",
              "      <td>0.0</td>\n",
              "      <td>281</td>\n",
              "      <td>60.6</td>\n",
              "      <td>S</td>\n",
              "      <td>106.4</td>\n",
              "      <td>W</td>\n",
              "    </tr>\n",
              "    <tr>\n",
              "      <th>5</th>\n",
              "      <td>-1997 May 22</td>\n",
              "      <td>2:45:35</td>\n",
              "      <td>46391.0</td>\n",
              "      <td>-49432</td>\n",
              "      <td>25.0</td>\n",
              "      <td>P</td>\n",
              "      <td>1.3253</td>\n",
              "      <td>0.4035</td>\n",
              "      <td>0.0</td>\n",
              "      <td>55</td>\n",
              "      <td>61.7</td>\n",
              "      <td>N</td>\n",
              "      <td>151.7</td>\n",
              "      <td>W</td>\n",
              "    </tr>\n",
              "    <tr>\n",
              "      <th>...</th>\n",
              "      <td>...</td>\n",
              "      <td>...</td>\n",
              "      <td>...</td>\n",
              "      <td>...</td>\n",
              "      <td>...</td>\n",
              "      <td>...</td>\n",
              "      <td>...</td>\n",
              "      <td>...</td>\n",
              "      <td>...</td>\n",
              "      <td>...</td>\n",
              "      <td>...</td>\n",
              "      <td>...</td>\n",
              "      <td>...</td>\n",
              "      <td>...</td>\n",
              "    </tr>\n",
              "    <tr>\n",
              "      <th>2374</th>\n",
              "      <td>2998 June 15</td>\n",
              "      <td>14:49:27</td>\n",
              "      <td>4410.0</td>\n",
              "      <td>12349</td>\n",
              "      <td>182.0</td>\n",
              "      <td>P</td>\n",
              "      <td>-1.0158</td>\n",
              "      <td>0.9792</td>\n",
              "      <td>0.0</td>\n",
              "      <td>9</td>\n",
              "      <td>66.5</td>\n",
              "      <td>S</td>\n",
              "      <td>32.5</td>\n",
              "      <td>W</td>\n",
              "    </tr>\n",
              "    <tr>\n",
              "      <th>2375</th>\n",
              "      <td>2998 December 10</td>\n",
              "      <td>3:18:31</td>\n",
              "      <td>4414.0</td>\n",
              "      <td>12355</td>\n",
              "      <td>187.0</td>\n",
              "      <td>P</td>\n",
              "      <td>1.2838</td>\n",
              "      <td>0.4773</td>\n",
              "      <td>0.0</td>\n",
              "      <td>179</td>\n",
              "      <td>67.2</td>\n",
              "      <td>N</td>\n",
              "      <td>145.0</td>\n",
              "      <td>E</td>\n",
              "    </tr>\n",
              "    <tr>\n",
              "      <th>2376</th>\n",
              "      <td>2999 May 6</td>\n",
              "      <td>23:23:57</td>\n",
              "      <td>4417.0</td>\n",
              "      <td>12360</td>\n",
              "      <td>154.0</td>\n",
              "      <td>T</td>\n",
              "      <td>0.8388</td>\n",
              "      <td>1.0566</td>\n",
              "      <td>33.0</td>\n",
              "      <td>146</td>\n",
              "      <td>71.5</td>\n",
              "      <td>N</td>\n",
              "      <td>177.3</td>\n",
              "      <td>E</td>\n",
              "    </tr>\n",
              "    <tr>\n",
              "      <th>2377</th>\n",
              "      <td>2999 October 30</td>\n",
              "      <td>9:34:33</td>\n",
              "      <td>4420.0</td>\n",
              "      <td>12366</td>\n",
              "      <td>159.0</td>\n",
              "      <td>A</td>\n",
              "      <td>-1.0023</td>\n",
              "      <td>0.9586</td>\n",
              "      <td>0.0</td>\n",
              "      <td>137</td>\n",
              "      <td>70.9</td>\n",
              "      <td>S</td>\n",
              "      <td>84.7</td>\n",
              "      <td>W</td>\n",
              "    </tr>\n",
              "    <tr>\n",
              "      <th>2378</th>\n",
              "      <td>3000 April 26</td>\n",
              "      <td>14:18:06</td>\n",
              "      <td>4424.0</td>\n",
              "      <td>12372</td>\n",
              "      <td>164.0</td>\n",
              "      <td>T</td>\n",
              "      <td>0.1310</td>\n",
              "      <td>1.0222</td>\n",
              "      <td>82.0</td>\n",
              "      <td>166</td>\n",
              "      <td>21.1</td>\n",
              "      <td>N</td>\n",
              "      <td>18.4</td>\n",
              "      <td>W</td>\n",
              "    </tr>\n",
              "  </tbody>\n",
              "</table>\n",
              "<p>11074 rows × 14 columns</p>\n",
              "</div>"
            ],
            "text/plain": [
              "          Calendar_Date Eclipse_Time  ...  Longitude_Number  Longitude_Letter\n",
              "1      -1999 December 5     23:45:23  ...              10.8                 E\n",
              "2          -1998 June 1     18:09:16  ...              83.4                 E\n",
              "3     -1998 November 25      5:57:03  ...             143.8                 W\n",
              "4        -1997 April 22     13:19:56  ...             106.4                 W\n",
              "5          -1997 May 22      2:45:35  ...             151.7                 W\n",
              "...                 ...          ...  ...               ...               ...\n",
              "2374       2998 June 15     14:49:27  ...              32.5                 W\n",
              "2375   2998 December 10      3:18:31  ...             145.0                 E\n",
              "2376         2999 May 6     23:23:57  ...             177.3                 E\n",
              "2377    2999 October 30      9:34:33  ...              84.7                 W\n",
              "2378      3000 April 26     14:18:06  ...              18.4                 W\n",
              "\n",
              "[11074 rows x 14 columns]"
            ]
          },
          "metadata": {
            "tags": []
          },
          "execution_count": 25
        }
      ]
    },
    {
      "cell_type": "code",
      "metadata": {
        "id": "wMggLd2i0fSz"
      },
      "source": [
        "def cleaning1(x):     \n",
        "    if '-' in x:\n",
        "        x = x.replace('-','')\n",
        "    return x"
      ],
      "execution_count": 26,
      "outputs": []
    },
    {
      "cell_type": "code",
      "metadata": {
        "id": "2bBRSEjn0fVg",
        "colab": {
          "base_uri": "https://localhost:8080/",
          "height": 248
        },
        "outputId": "9c9afa74-3515-41ba-c184-b16877204b85"
      },
      "source": [
        "df['Cleaned_Dates'] = list(map(cleaning1, df['Calendar_Date']))   #column without -ve symbol\n",
        "df.head()"
      ],
      "execution_count": 27,
      "outputs": [
        {
          "output_type": "execute_result",
          "data": {
            "text/html": [
              "<div>\n",
              "<style scoped>\n",
              "    .dataframe tbody tr th:only-of-type {\n",
              "        vertical-align: middle;\n",
              "    }\n",
              "\n",
              "    .dataframe tbody tr th {\n",
              "        vertical-align: top;\n",
              "    }\n",
              "\n",
              "    .dataframe thead th {\n",
              "        text-align: right;\n",
              "    }\n",
              "</style>\n",
              "<table border=\"1\" class=\"dataframe\">\n",
              "  <thead>\n",
              "    <tr style=\"text-align: right;\">\n",
              "      <th></th>\n",
              "      <th>Calendar_Date</th>\n",
              "      <th>Eclipse_Time</th>\n",
              "      <th>Delta_T_(s)</th>\n",
              "      <th>Lunation_Number</th>\n",
              "      <th>Saros_Number</th>\n",
              "      <th>Eclipse_Type</th>\n",
              "      <th>Gamma</th>\n",
              "      <th>Eclipse_Magnitude</th>\n",
              "      <th>Sun_Altitude</th>\n",
              "      <th>Sun_Azimuth</th>\n",
              "      <th>Latitude_Number</th>\n",
              "      <th>Latitude_Letter</th>\n",
              "      <th>Longitude_Number</th>\n",
              "      <th>Longitude_Letter</th>\n",
              "      <th>Cleaned_Dates</th>\n",
              "    </tr>\n",
              "  </thead>\n",
              "  <tbody>\n",
              "    <tr>\n",
              "      <th>1</th>\n",
              "      <td>-1999 December 5</td>\n",
              "      <td>23:45:23</td>\n",
              "      <td>46426.0</td>\n",
              "      <td>-49450</td>\n",
              "      <td>10.0</td>\n",
              "      <td>A</td>\n",
              "      <td>-0.2317</td>\n",
              "      <td>0.9382</td>\n",
              "      <td>76.0</td>\n",
              "      <td>21</td>\n",
              "      <td>32.9</td>\n",
              "      <td>S</td>\n",
              "      <td>10.8</td>\n",
              "      <td>E</td>\n",
              "      <td>1999 December 5</td>\n",
              "    </tr>\n",
              "    <tr>\n",
              "      <th>2</th>\n",
              "      <td>-1998 June 1</td>\n",
              "      <td>18:09:16</td>\n",
              "      <td>46415.0</td>\n",
              "      <td>-49444</td>\n",
              "      <td>15.0</td>\n",
              "      <td>T</td>\n",
              "      <td>0.4994</td>\n",
              "      <td>1.0284</td>\n",
              "      <td>60.0</td>\n",
              "      <td>151</td>\n",
              "      <td>46.2</td>\n",
              "      <td>N</td>\n",
              "      <td>83.4</td>\n",
              "      <td>E</td>\n",
              "      <td>1998 June 1</td>\n",
              "    </tr>\n",
              "    <tr>\n",
              "      <th>3</th>\n",
              "      <td>-1998 November 25</td>\n",
              "      <td>5:57:03</td>\n",
              "      <td>46403.0</td>\n",
              "      <td>-49438</td>\n",
              "      <td>20.0</td>\n",
              "      <td>A</td>\n",
              "      <td>-0.9045</td>\n",
              "      <td>0.9806</td>\n",
              "      <td>25.0</td>\n",
              "      <td>74</td>\n",
              "      <td>67.8</td>\n",
              "      <td>S</td>\n",
              "      <td>143.8</td>\n",
              "      <td>W</td>\n",
              "      <td>1998 November 25</td>\n",
              "    </tr>\n",
              "    <tr>\n",
              "      <th>4</th>\n",
              "      <td>-1997 April 22</td>\n",
              "      <td>13:19:56</td>\n",
              "      <td>46393.0</td>\n",
              "      <td>-49433</td>\n",
              "      <td>-13.0</td>\n",
              "      <td>P</td>\n",
              "      <td>-1.4670</td>\n",
              "      <td>0.1611</td>\n",
              "      <td>0.0</td>\n",
              "      <td>281</td>\n",
              "      <td>60.6</td>\n",
              "      <td>S</td>\n",
              "      <td>106.4</td>\n",
              "      <td>W</td>\n",
              "      <td>1997 April 22</td>\n",
              "    </tr>\n",
              "    <tr>\n",
              "      <th>5</th>\n",
              "      <td>-1997 May 22</td>\n",
              "      <td>2:45:35</td>\n",
              "      <td>46391.0</td>\n",
              "      <td>-49432</td>\n",
              "      <td>25.0</td>\n",
              "      <td>P</td>\n",
              "      <td>1.3253</td>\n",
              "      <td>0.4035</td>\n",
              "      <td>0.0</td>\n",
              "      <td>55</td>\n",
              "      <td>61.7</td>\n",
              "      <td>N</td>\n",
              "      <td>151.7</td>\n",
              "      <td>W</td>\n",
              "      <td>1997 May 22</td>\n",
              "    </tr>\n",
              "  </tbody>\n",
              "</table>\n",
              "</div>"
            ],
            "text/plain": [
              "       Calendar_Date Eclipse_Time  ...  Longitude_Letter     Cleaned_Dates\n",
              "1   -1999 December 5     23:45:23  ...                 E   1999 December 5\n",
              "2       -1998 June 1     18:09:16  ...                 E       1998 June 1\n",
              "3  -1998 November 25      5:57:03  ...                 W  1998 November 25\n",
              "4     -1997 April 22     13:19:56  ...                 W     1997 April 22\n",
              "5       -1997 May 22      2:45:35  ...                 W       1997 May 22\n",
              "\n",
              "[5 rows x 15 columns]"
            ]
          },
          "metadata": {
            "tags": []
          },
          "execution_count": 27
        }
      ]
    },
    {
      "cell_type": "code",
      "metadata": {
        "id": "2vwpktYc0fYH"
      },
      "source": [
        "def cleaning2(x):                       #extracting months and removing -ve symbols\n",
        "    if '-' in x:\n",
        "        x = x.replace('-','')\n",
        "    return((re.findall('[A-z]+', x))[0])      "
      ],
      "execution_count": 28,
      "outputs": []
    },
    {
      "cell_type": "code",
      "metadata": {
        "id": "cAYqCetK0fav",
        "colab": {
          "base_uri": "https://localhost:8080/"
        },
        "outputId": "a9b39c95-e5e1-45ad-b878-9d6c8b846e59"
      },
      "source": [
        "df['Cleaned_Dates_Month'] = list(map(cleaning2, df['Calendar_Date']))\n",
        "df['Cleaned_Dates_Month']"
      ],
      "execution_count": 29,
      "outputs": [
        {
          "output_type": "execute_result",
          "data": {
            "text/plain": [
              "1       December\n",
              "2           June\n",
              "3       November\n",
              "4          April\n",
              "5            May\n",
              "          ...   \n",
              "2374        June\n",
              "2375    December\n",
              "2376         May\n",
              "2377     October\n",
              "2378       April\n",
              "Name: Cleaned_Dates_Month, Length: 11074, dtype: object"
            ]
          },
          "metadata": {
            "tags": []
          },
          "execution_count": 29
        }
      ]
    },
    {
      "cell_type": "markdown",
      "metadata": {
        "id": "cS7jyCQQ9Nww"
      },
      "source": [
        ""
      ]
    },
    {
      "cell_type": "code",
      "metadata": {
        "id": "Ag7kAOEk0fdG"
      },
      "source": [
        "def cleaning3(x):                     #extracting years and removing -ve symbols\n",
        "    if '-' in x:\n",
        "        x = x.replace('-','')\n",
        "    temp = re.findall('\\d\\d\\d\\d', x)\n",
        "    if len(temp)>0:\n",
        "        return temp[0]\n",
        "    else:\n",
        "        return temp"
      ],
      "execution_count": 30,
      "outputs": []
    },
    {
      "cell_type": "code",
      "metadata": {
        "id": "Xr6OF1E60fgB",
        "colab": {
          "base_uri": "https://localhost:8080/"
        },
        "outputId": "f51d0429-8cf8-457b-c631-49d7c14343fc"
      },
      "source": [
        "df['Cleaned_Dates_Year'] = list(map(cleaning3, df['Calendar_Date']))\n",
        "df['Cleaned_Dates_Year']\n"
      ],
      "execution_count": 31,
      "outputs": [
        {
          "output_type": "execute_result",
          "data": {
            "text/plain": [
              "1       1999\n",
              "2       1998\n",
              "3       1998\n",
              "4       1997\n",
              "5       1997\n",
              "        ... \n",
              "2374    2998\n",
              "2375    2998\n",
              "2376    2999\n",
              "2377    2999\n",
              "2378    3000\n",
              "Name: Cleaned_Dates_Year, Length: 11074, dtype: object"
            ]
          },
          "metadata": {
            "tags": []
          },
          "execution_count": 31
        }
      ]
    },
    {
      "cell_type": "code",
      "metadata": {
        "id": "ZH6gJGux0fiW",
        "colab": {
          "base_uri": "https://localhost:8080/",
          "height": 487
        },
        "outputId": "f16f855c-3240-4f4d-a5ac-d05ca49f34f2"
      },
      "source": [
        "df = df.drop([\"Calendar_Date\"], axis=1)\n",
        "df"
      ],
      "execution_count": 32,
      "outputs": [
        {
          "output_type": "execute_result",
          "data": {
            "text/html": [
              "<div>\n",
              "<style scoped>\n",
              "    .dataframe tbody tr th:only-of-type {\n",
              "        vertical-align: middle;\n",
              "    }\n",
              "\n",
              "    .dataframe tbody tr th {\n",
              "        vertical-align: top;\n",
              "    }\n",
              "\n",
              "    .dataframe thead th {\n",
              "        text-align: right;\n",
              "    }\n",
              "</style>\n",
              "<table border=\"1\" class=\"dataframe\">\n",
              "  <thead>\n",
              "    <tr style=\"text-align: right;\">\n",
              "      <th></th>\n",
              "      <th>Eclipse_Time</th>\n",
              "      <th>Delta_T_(s)</th>\n",
              "      <th>Lunation_Number</th>\n",
              "      <th>Saros_Number</th>\n",
              "      <th>Eclipse_Type</th>\n",
              "      <th>Gamma</th>\n",
              "      <th>Eclipse_Magnitude</th>\n",
              "      <th>Sun_Altitude</th>\n",
              "      <th>Sun_Azimuth</th>\n",
              "      <th>Latitude_Number</th>\n",
              "      <th>Latitude_Letter</th>\n",
              "      <th>Longitude_Number</th>\n",
              "      <th>Longitude_Letter</th>\n",
              "      <th>Cleaned_Dates</th>\n",
              "      <th>Cleaned_Dates_Month</th>\n",
              "      <th>Cleaned_Dates_Year</th>\n",
              "    </tr>\n",
              "  </thead>\n",
              "  <tbody>\n",
              "    <tr>\n",
              "      <th>1</th>\n",
              "      <td>23:45:23</td>\n",
              "      <td>46426.0</td>\n",
              "      <td>-49450</td>\n",
              "      <td>10.0</td>\n",
              "      <td>A</td>\n",
              "      <td>-0.2317</td>\n",
              "      <td>0.9382</td>\n",
              "      <td>76.0</td>\n",
              "      <td>21</td>\n",
              "      <td>32.9</td>\n",
              "      <td>S</td>\n",
              "      <td>10.8</td>\n",
              "      <td>E</td>\n",
              "      <td>1999 December 5</td>\n",
              "      <td>December</td>\n",
              "      <td>1999</td>\n",
              "    </tr>\n",
              "    <tr>\n",
              "      <th>2</th>\n",
              "      <td>18:09:16</td>\n",
              "      <td>46415.0</td>\n",
              "      <td>-49444</td>\n",
              "      <td>15.0</td>\n",
              "      <td>T</td>\n",
              "      <td>0.4994</td>\n",
              "      <td>1.0284</td>\n",
              "      <td>60.0</td>\n",
              "      <td>151</td>\n",
              "      <td>46.2</td>\n",
              "      <td>N</td>\n",
              "      <td>83.4</td>\n",
              "      <td>E</td>\n",
              "      <td>1998 June 1</td>\n",
              "      <td>June</td>\n",
              "      <td>1998</td>\n",
              "    </tr>\n",
              "    <tr>\n",
              "      <th>3</th>\n",
              "      <td>5:57:03</td>\n",
              "      <td>46403.0</td>\n",
              "      <td>-49438</td>\n",
              "      <td>20.0</td>\n",
              "      <td>A</td>\n",
              "      <td>-0.9045</td>\n",
              "      <td>0.9806</td>\n",
              "      <td>25.0</td>\n",
              "      <td>74</td>\n",
              "      <td>67.8</td>\n",
              "      <td>S</td>\n",
              "      <td>143.8</td>\n",
              "      <td>W</td>\n",
              "      <td>1998 November 25</td>\n",
              "      <td>November</td>\n",
              "      <td>1998</td>\n",
              "    </tr>\n",
              "    <tr>\n",
              "      <th>4</th>\n",
              "      <td>13:19:56</td>\n",
              "      <td>46393.0</td>\n",
              "      <td>-49433</td>\n",
              "      <td>-13.0</td>\n",
              "      <td>P</td>\n",
              "      <td>-1.4670</td>\n",
              "      <td>0.1611</td>\n",
              "      <td>0.0</td>\n",
              "      <td>281</td>\n",
              "      <td>60.6</td>\n",
              "      <td>S</td>\n",
              "      <td>106.4</td>\n",
              "      <td>W</td>\n",
              "      <td>1997 April 22</td>\n",
              "      <td>April</td>\n",
              "      <td>1997</td>\n",
              "    </tr>\n",
              "    <tr>\n",
              "      <th>5</th>\n",
              "      <td>2:45:35</td>\n",
              "      <td>46391.0</td>\n",
              "      <td>-49432</td>\n",
              "      <td>25.0</td>\n",
              "      <td>P</td>\n",
              "      <td>1.3253</td>\n",
              "      <td>0.4035</td>\n",
              "      <td>0.0</td>\n",
              "      <td>55</td>\n",
              "      <td>61.7</td>\n",
              "      <td>N</td>\n",
              "      <td>151.7</td>\n",
              "      <td>W</td>\n",
              "      <td>1997 May 22</td>\n",
              "      <td>May</td>\n",
              "      <td>1997</td>\n",
              "    </tr>\n",
              "    <tr>\n",
              "      <th>...</th>\n",
              "      <td>...</td>\n",
              "      <td>...</td>\n",
              "      <td>...</td>\n",
              "      <td>...</td>\n",
              "      <td>...</td>\n",
              "      <td>...</td>\n",
              "      <td>...</td>\n",
              "      <td>...</td>\n",
              "      <td>...</td>\n",
              "      <td>...</td>\n",
              "      <td>...</td>\n",
              "      <td>...</td>\n",
              "      <td>...</td>\n",
              "      <td>...</td>\n",
              "      <td>...</td>\n",
              "      <td>...</td>\n",
              "    </tr>\n",
              "    <tr>\n",
              "      <th>2374</th>\n",
              "      <td>14:49:27</td>\n",
              "      <td>4410.0</td>\n",
              "      <td>12349</td>\n",
              "      <td>182.0</td>\n",
              "      <td>P</td>\n",
              "      <td>-1.0158</td>\n",
              "      <td>0.9792</td>\n",
              "      <td>0.0</td>\n",
              "      <td>9</td>\n",
              "      <td>66.5</td>\n",
              "      <td>S</td>\n",
              "      <td>32.5</td>\n",
              "      <td>W</td>\n",
              "      <td>2998 June 15</td>\n",
              "      <td>June</td>\n",
              "      <td>2998</td>\n",
              "    </tr>\n",
              "    <tr>\n",
              "      <th>2375</th>\n",
              "      <td>3:18:31</td>\n",
              "      <td>4414.0</td>\n",
              "      <td>12355</td>\n",
              "      <td>187.0</td>\n",
              "      <td>P</td>\n",
              "      <td>1.2838</td>\n",
              "      <td>0.4773</td>\n",
              "      <td>0.0</td>\n",
              "      <td>179</td>\n",
              "      <td>67.2</td>\n",
              "      <td>N</td>\n",
              "      <td>145.0</td>\n",
              "      <td>E</td>\n",
              "      <td>2998 December 10</td>\n",
              "      <td>December</td>\n",
              "      <td>2998</td>\n",
              "    </tr>\n",
              "    <tr>\n",
              "      <th>2376</th>\n",
              "      <td>23:23:57</td>\n",
              "      <td>4417.0</td>\n",
              "      <td>12360</td>\n",
              "      <td>154.0</td>\n",
              "      <td>T</td>\n",
              "      <td>0.8388</td>\n",
              "      <td>1.0566</td>\n",
              "      <td>33.0</td>\n",
              "      <td>146</td>\n",
              "      <td>71.5</td>\n",
              "      <td>N</td>\n",
              "      <td>177.3</td>\n",
              "      <td>E</td>\n",
              "      <td>2999 May 6</td>\n",
              "      <td>May</td>\n",
              "      <td>2999</td>\n",
              "    </tr>\n",
              "    <tr>\n",
              "      <th>2377</th>\n",
              "      <td>9:34:33</td>\n",
              "      <td>4420.0</td>\n",
              "      <td>12366</td>\n",
              "      <td>159.0</td>\n",
              "      <td>A</td>\n",
              "      <td>-1.0023</td>\n",
              "      <td>0.9586</td>\n",
              "      <td>0.0</td>\n",
              "      <td>137</td>\n",
              "      <td>70.9</td>\n",
              "      <td>S</td>\n",
              "      <td>84.7</td>\n",
              "      <td>W</td>\n",
              "      <td>2999 October 30</td>\n",
              "      <td>October</td>\n",
              "      <td>2999</td>\n",
              "    </tr>\n",
              "    <tr>\n",
              "      <th>2378</th>\n",
              "      <td>14:18:06</td>\n",
              "      <td>4424.0</td>\n",
              "      <td>12372</td>\n",
              "      <td>164.0</td>\n",
              "      <td>T</td>\n",
              "      <td>0.1310</td>\n",
              "      <td>1.0222</td>\n",
              "      <td>82.0</td>\n",
              "      <td>166</td>\n",
              "      <td>21.1</td>\n",
              "      <td>N</td>\n",
              "      <td>18.4</td>\n",
              "      <td>W</td>\n",
              "      <td>3000 April 26</td>\n",
              "      <td>April</td>\n",
              "      <td>3000</td>\n",
              "    </tr>\n",
              "  </tbody>\n",
              "</table>\n",
              "<p>11074 rows × 16 columns</p>\n",
              "</div>"
            ],
            "text/plain": [
              "     Eclipse_Time  Delta_T_(s)  ...  Cleaned_Dates_Month  Cleaned_Dates_Year\n",
              "1        23:45:23      46426.0  ...             December                1999\n",
              "2        18:09:16      46415.0  ...                 June                1998\n",
              "3         5:57:03      46403.0  ...             November                1998\n",
              "4        13:19:56      46393.0  ...                April                1997\n",
              "5         2:45:35      46391.0  ...                  May                1997\n",
              "...           ...          ...  ...                  ...                 ...\n",
              "2374     14:49:27       4410.0  ...                 June                2998\n",
              "2375      3:18:31       4414.0  ...             December                2998\n",
              "2376     23:23:57       4417.0  ...                  May                2999\n",
              "2377      9:34:33       4420.0  ...              October                2999\n",
              "2378     14:18:06       4424.0  ...                April                3000\n",
              "\n",
              "[11074 rows x 16 columns]"
            ]
          },
          "metadata": {
            "tags": []
          },
          "execution_count": 32
        }
      ]
    },
    {
      "cell_type": "code",
      "metadata": {
        "id": "2CASg2tG0fqL",
        "colab": {
          "base_uri": "https://localhost:8080/",
          "height": 399
        },
        "outputId": "8c8da87c-10ab-430e-ba6d-0daea08376da"
      },
      "source": [
        "df_categories = df.select_dtypes(object)\n",
        "df_categories "
      ],
      "execution_count": 33,
      "outputs": [
        {
          "output_type": "execute_result",
          "data": {
            "text/html": [
              "<div>\n",
              "<style scoped>\n",
              "    .dataframe tbody tr th:only-of-type {\n",
              "        vertical-align: middle;\n",
              "    }\n",
              "\n",
              "    .dataframe tbody tr th {\n",
              "        vertical-align: top;\n",
              "    }\n",
              "\n",
              "    .dataframe thead th {\n",
              "        text-align: right;\n",
              "    }\n",
              "</style>\n",
              "<table border=\"1\" class=\"dataframe\">\n",
              "  <thead>\n",
              "    <tr style=\"text-align: right;\">\n",
              "      <th></th>\n",
              "      <th>Eclipse_Time</th>\n",
              "      <th>Eclipse_Type</th>\n",
              "      <th>Latitude_Number</th>\n",
              "      <th>Latitude_Letter</th>\n",
              "      <th>Longitude_Number</th>\n",
              "      <th>Longitude_Letter</th>\n",
              "      <th>Cleaned_Dates</th>\n",
              "      <th>Cleaned_Dates_Month</th>\n",
              "      <th>Cleaned_Dates_Year</th>\n",
              "    </tr>\n",
              "  </thead>\n",
              "  <tbody>\n",
              "    <tr>\n",
              "      <th>1</th>\n",
              "      <td>23:45:23</td>\n",
              "      <td>A</td>\n",
              "      <td>32.9</td>\n",
              "      <td>S</td>\n",
              "      <td>10.8</td>\n",
              "      <td>E</td>\n",
              "      <td>1999 December 5</td>\n",
              "      <td>December</td>\n",
              "      <td>1999</td>\n",
              "    </tr>\n",
              "    <tr>\n",
              "      <th>2</th>\n",
              "      <td>18:09:16</td>\n",
              "      <td>T</td>\n",
              "      <td>46.2</td>\n",
              "      <td>N</td>\n",
              "      <td>83.4</td>\n",
              "      <td>E</td>\n",
              "      <td>1998 June 1</td>\n",
              "      <td>June</td>\n",
              "      <td>1998</td>\n",
              "    </tr>\n",
              "    <tr>\n",
              "      <th>3</th>\n",
              "      <td>5:57:03</td>\n",
              "      <td>A</td>\n",
              "      <td>67.8</td>\n",
              "      <td>S</td>\n",
              "      <td>143.8</td>\n",
              "      <td>W</td>\n",
              "      <td>1998 November 25</td>\n",
              "      <td>November</td>\n",
              "      <td>1998</td>\n",
              "    </tr>\n",
              "    <tr>\n",
              "      <th>4</th>\n",
              "      <td>13:19:56</td>\n",
              "      <td>P</td>\n",
              "      <td>60.6</td>\n",
              "      <td>S</td>\n",
              "      <td>106.4</td>\n",
              "      <td>W</td>\n",
              "      <td>1997 April 22</td>\n",
              "      <td>April</td>\n",
              "      <td>1997</td>\n",
              "    </tr>\n",
              "    <tr>\n",
              "      <th>5</th>\n",
              "      <td>2:45:35</td>\n",
              "      <td>P</td>\n",
              "      <td>61.7</td>\n",
              "      <td>N</td>\n",
              "      <td>151.7</td>\n",
              "      <td>W</td>\n",
              "      <td>1997 May 22</td>\n",
              "      <td>May</td>\n",
              "      <td>1997</td>\n",
              "    </tr>\n",
              "    <tr>\n",
              "      <th>...</th>\n",
              "      <td>...</td>\n",
              "      <td>...</td>\n",
              "      <td>...</td>\n",
              "      <td>...</td>\n",
              "      <td>...</td>\n",
              "      <td>...</td>\n",
              "      <td>...</td>\n",
              "      <td>...</td>\n",
              "      <td>...</td>\n",
              "    </tr>\n",
              "    <tr>\n",
              "      <th>2374</th>\n",
              "      <td>14:49:27</td>\n",
              "      <td>P</td>\n",
              "      <td>66.5</td>\n",
              "      <td>S</td>\n",
              "      <td>32.5</td>\n",
              "      <td>W</td>\n",
              "      <td>2998 June 15</td>\n",
              "      <td>June</td>\n",
              "      <td>2998</td>\n",
              "    </tr>\n",
              "    <tr>\n",
              "      <th>2375</th>\n",
              "      <td>3:18:31</td>\n",
              "      <td>P</td>\n",
              "      <td>67.2</td>\n",
              "      <td>N</td>\n",
              "      <td>145.0</td>\n",
              "      <td>E</td>\n",
              "      <td>2998 December 10</td>\n",
              "      <td>December</td>\n",
              "      <td>2998</td>\n",
              "    </tr>\n",
              "    <tr>\n",
              "      <th>2376</th>\n",
              "      <td>23:23:57</td>\n",
              "      <td>T</td>\n",
              "      <td>71.5</td>\n",
              "      <td>N</td>\n",
              "      <td>177.3</td>\n",
              "      <td>E</td>\n",
              "      <td>2999 May 6</td>\n",
              "      <td>May</td>\n",
              "      <td>2999</td>\n",
              "    </tr>\n",
              "    <tr>\n",
              "      <th>2377</th>\n",
              "      <td>9:34:33</td>\n",
              "      <td>A</td>\n",
              "      <td>70.9</td>\n",
              "      <td>S</td>\n",
              "      <td>84.7</td>\n",
              "      <td>W</td>\n",
              "      <td>2999 October 30</td>\n",
              "      <td>October</td>\n",
              "      <td>2999</td>\n",
              "    </tr>\n",
              "    <tr>\n",
              "      <th>2378</th>\n",
              "      <td>14:18:06</td>\n",
              "      <td>T</td>\n",
              "      <td>21.1</td>\n",
              "      <td>N</td>\n",
              "      <td>18.4</td>\n",
              "      <td>W</td>\n",
              "      <td>3000 April 26</td>\n",
              "      <td>April</td>\n",
              "      <td>3000</td>\n",
              "    </tr>\n",
              "  </tbody>\n",
              "</table>\n",
              "<p>11074 rows × 9 columns</p>\n",
              "</div>"
            ],
            "text/plain": [
              "     Eclipse_Time Eclipse_Type  ... Cleaned_Dates_Month Cleaned_Dates_Year\n",
              "1        23:45:23            A  ...            December               1999\n",
              "2        18:09:16            T  ...                June               1998\n",
              "3         5:57:03            A  ...            November               1998\n",
              "4        13:19:56            P  ...               April               1997\n",
              "5         2:45:35            P  ...                 May               1997\n",
              "...           ...          ...  ...                 ...                ...\n",
              "2374     14:49:27            P  ...                June               2998\n",
              "2375      3:18:31            P  ...            December               2998\n",
              "2376     23:23:57            T  ...                 May               2999\n",
              "2377      9:34:33            A  ...             October               2999\n",
              "2378     14:18:06            T  ...               April               3000\n",
              "\n",
              "[11074 rows x 9 columns]"
            ]
          },
          "metadata": {
            "tags": []
          },
          "execution_count": 33
        }
      ]
    },
    {
      "cell_type": "code",
      "metadata": {
        "id": "UG3JSyEZ0fs3",
        "colab": {
          "base_uri": "https://localhost:8080/",
          "height": 248
        },
        "outputId": "4222eb75-6379-46a9-e48e-bc8900bd9903"
      },
      "source": [
        "#Converting Latitude_number and Longitude_number to float type from object type\n",
        "df[\"Latitude_Number\"] = pd.to_numeric(df[\"Latitude_Number\"])\n",
        "df[\"Longitude_Number\"] = pd.to_numeric(df[\"Longitude_Number\"])\n",
        "df.head()"
      ],
      "execution_count": 34,
      "outputs": [
        {
          "output_type": "execute_result",
          "data": {
            "text/html": [
              "<div>\n",
              "<style scoped>\n",
              "    .dataframe tbody tr th:only-of-type {\n",
              "        vertical-align: middle;\n",
              "    }\n",
              "\n",
              "    .dataframe tbody tr th {\n",
              "        vertical-align: top;\n",
              "    }\n",
              "\n",
              "    .dataframe thead th {\n",
              "        text-align: right;\n",
              "    }\n",
              "</style>\n",
              "<table border=\"1\" class=\"dataframe\">\n",
              "  <thead>\n",
              "    <tr style=\"text-align: right;\">\n",
              "      <th></th>\n",
              "      <th>Eclipse_Time</th>\n",
              "      <th>Delta_T_(s)</th>\n",
              "      <th>Lunation_Number</th>\n",
              "      <th>Saros_Number</th>\n",
              "      <th>Eclipse_Type</th>\n",
              "      <th>Gamma</th>\n",
              "      <th>Eclipse_Magnitude</th>\n",
              "      <th>Sun_Altitude</th>\n",
              "      <th>Sun_Azimuth</th>\n",
              "      <th>Latitude_Number</th>\n",
              "      <th>Latitude_Letter</th>\n",
              "      <th>Longitude_Number</th>\n",
              "      <th>Longitude_Letter</th>\n",
              "      <th>Cleaned_Dates</th>\n",
              "      <th>Cleaned_Dates_Month</th>\n",
              "      <th>Cleaned_Dates_Year</th>\n",
              "    </tr>\n",
              "  </thead>\n",
              "  <tbody>\n",
              "    <tr>\n",
              "      <th>1</th>\n",
              "      <td>23:45:23</td>\n",
              "      <td>46426.0</td>\n",
              "      <td>-49450</td>\n",
              "      <td>10.0</td>\n",
              "      <td>A</td>\n",
              "      <td>-0.2317</td>\n",
              "      <td>0.9382</td>\n",
              "      <td>76.0</td>\n",
              "      <td>21</td>\n",
              "      <td>32.9</td>\n",
              "      <td>S</td>\n",
              "      <td>10.8</td>\n",
              "      <td>E</td>\n",
              "      <td>1999 December 5</td>\n",
              "      <td>December</td>\n",
              "      <td>1999</td>\n",
              "    </tr>\n",
              "    <tr>\n",
              "      <th>2</th>\n",
              "      <td>18:09:16</td>\n",
              "      <td>46415.0</td>\n",
              "      <td>-49444</td>\n",
              "      <td>15.0</td>\n",
              "      <td>T</td>\n",
              "      <td>0.4994</td>\n",
              "      <td>1.0284</td>\n",
              "      <td>60.0</td>\n",
              "      <td>151</td>\n",
              "      <td>46.2</td>\n",
              "      <td>N</td>\n",
              "      <td>83.4</td>\n",
              "      <td>E</td>\n",
              "      <td>1998 June 1</td>\n",
              "      <td>June</td>\n",
              "      <td>1998</td>\n",
              "    </tr>\n",
              "    <tr>\n",
              "      <th>3</th>\n",
              "      <td>5:57:03</td>\n",
              "      <td>46403.0</td>\n",
              "      <td>-49438</td>\n",
              "      <td>20.0</td>\n",
              "      <td>A</td>\n",
              "      <td>-0.9045</td>\n",
              "      <td>0.9806</td>\n",
              "      <td>25.0</td>\n",
              "      <td>74</td>\n",
              "      <td>67.8</td>\n",
              "      <td>S</td>\n",
              "      <td>143.8</td>\n",
              "      <td>W</td>\n",
              "      <td>1998 November 25</td>\n",
              "      <td>November</td>\n",
              "      <td>1998</td>\n",
              "    </tr>\n",
              "    <tr>\n",
              "      <th>4</th>\n",
              "      <td>13:19:56</td>\n",
              "      <td>46393.0</td>\n",
              "      <td>-49433</td>\n",
              "      <td>-13.0</td>\n",
              "      <td>P</td>\n",
              "      <td>-1.4670</td>\n",
              "      <td>0.1611</td>\n",
              "      <td>0.0</td>\n",
              "      <td>281</td>\n",
              "      <td>60.6</td>\n",
              "      <td>S</td>\n",
              "      <td>106.4</td>\n",
              "      <td>W</td>\n",
              "      <td>1997 April 22</td>\n",
              "      <td>April</td>\n",
              "      <td>1997</td>\n",
              "    </tr>\n",
              "    <tr>\n",
              "      <th>5</th>\n",
              "      <td>2:45:35</td>\n",
              "      <td>46391.0</td>\n",
              "      <td>-49432</td>\n",
              "      <td>25.0</td>\n",
              "      <td>P</td>\n",
              "      <td>1.3253</td>\n",
              "      <td>0.4035</td>\n",
              "      <td>0.0</td>\n",
              "      <td>55</td>\n",
              "      <td>61.7</td>\n",
              "      <td>N</td>\n",
              "      <td>151.7</td>\n",
              "      <td>W</td>\n",
              "      <td>1997 May 22</td>\n",
              "      <td>May</td>\n",
              "      <td>1997</td>\n",
              "    </tr>\n",
              "  </tbody>\n",
              "</table>\n",
              "</div>"
            ],
            "text/plain": [
              "  Eclipse_Time  Delta_T_(s)  ...  Cleaned_Dates_Month  Cleaned_Dates_Year\n",
              "1     23:45:23      46426.0  ...             December                1999\n",
              "2     18:09:16      46415.0  ...                 June                1998\n",
              "3      5:57:03      46403.0  ...             November                1998\n",
              "4     13:19:56      46393.0  ...                April                1997\n",
              "5      2:45:35      46391.0  ...                  May                1997\n",
              "\n",
              "[5 rows x 16 columns]"
            ]
          },
          "metadata": {
            "tags": []
          },
          "execution_count": 34
        }
      ]
    },
    {
      "cell_type": "code",
      "metadata": {
        "id": "hnvaXir80fvo",
        "colab": {
          "base_uri": "https://localhost:8080/"
        },
        "outputId": "00ec0468-230e-449f-8232-65d6fa9c99c9"
      },
      "source": [
        "df.dtypes"
      ],
      "execution_count": 35,
      "outputs": [
        {
          "output_type": "execute_result",
          "data": {
            "text/plain": [
              "Eclipse_Time            object\n",
              "Delta_T_(s)            float64\n",
              "Lunation_Number          int64\n",
              "Saros_Number           float64\n",
              "Eclipse_Type            object\n",
              "Gamma                  float64\n",
              "Eclipse_Magnitude      float64\n",
              "Sun_Altitude           float64\n",
              "Sun_Azimuth              int64\n",
              "Latitude_Number        float64\n",
              "Latitude_Letter         object\n",
              "Longitude_Number       float64\n",
              "Longitude_Letter        object\n",
              "Cleaned_Dates           object\n",
              "Cleaned_Dates_Month     object\n",
              "Cleaned_Dates_Year      object\n",
              "dtype: object"
            ]
          },
          "metadata": {
            "tags": []
          },
          "execution_count": 35
        }
      ]
    },
    {
      "cell_type": "code",
      "metadata": {
        "id": "RGoIuHrP0fyK",
        "colab": {
          "base_uri": "https://localhost:8080/",
          "height": 194
        },
        "outputId": "38ef9d2a-ab6c-4dc2-91e4-4f55292eeef9"
      },
      "source": [
        "df_Categoricals = df.select_dtypes(object)\n",
        "df_Categoricals.head()"
      ],
      "execution_count": 36,
      "outputs": [
        {
          "output_type": "execute_result",
          "data": {
            "text/html": [
              "<div>\n",
              "<style scoped>\n",
              "    .dataframe tbody tr th:only-of-type {\n",
              "        vertical-align: middle;\n",
              "    }\n",
              "\n",
              "    .dataframe tbody tr th {\n",
              "        vertical-align: top;\n",
              "    }\n",
              "\n",
              "    .dataframe thead th {\n",
              "        text-align: right;\n",
              "    }\n",
              "</style>\n",
              "<table border=\"1\" class=\"dataframe\">\n",
              "  <thead>\n",
              "    <tr style=\"text-align: right;\">\n",
              "      <th></th>\n",
              "      <th>Eclipse_Time</th>\n",
              "      <th>Eclipse_Type</th>\n",
              "      <th>Latitude_Letter</th>\n",
              "      <th>Longitude_Letter</th>\n",
              "      <th>Cleaned_Dates</th>\n",
              "      <th>Cleaned_Dates_Month</th>\n",
              "      <th>Cleaned_Dates_Year</th>\n",
              "    </tr>\n",
              "  </thead>\n",
              "  <tbody>\n",
              "    <tr>\n",
              "      <th>1</th>\n",
              "      <td>23:45:23</td>\n",
              "      <td>A</td>\n",
              "      <td>S</td>\n",
              "      <td>E</td>\n",
              "      <td>1999 December 5</td>\n",
              "      <td>December</td>\n",
              "      <td>1999</td>\n",
              "    </tr>\n",
              "    <tr>\n",
              "      <th>2</th>\n",
              "      <td>18:09:16</td>\n",
              "      <td>T</td>\n",
              "      <td>N</td>\n",
              "      <td>E</td>\n",
              "      <td>1998 June 1</td>\n",
              "      <td>June</td>\n",
              "      <td>1998</td>\n",
              "    </tr>\n",
              "    <tr>\n",
              "      <th>3</th>\n",
              "      <td>5:57:03</td>\n",
              "      <td>A</td>\n",
              "      <td>S</td>\n",
              "      <td>W</td>\n",
              "      <td>1998 November 25</td>\n",
              "      <td>November</td>\n",
              "      <td>1998</td>\n",
              "    </tr>\n",
              "    <tr>\n",
              "      <th>4</th>\n",
              "      <td>13:19:56</td>\n",
              "      <td>P</td>\n",
              "      <td>S</td>\n",
              "      <td>W</td>\n",
              "      <td>1997 April 22</td>\n",
              "      <td>April</td>\n",
              "      <td>1997</td>\n",
              "    </tr>\n",
              "    <tr>\n",
              "      <th>5</th>\n",
              "      <td>2:45:35</td>\n",
              "      <td>P</td>\n",
              "      <td>N</td>\n",
              "      <td>W</td>\n",
              "      <td>1997 May 22</td>\n",
              "      <td>May</td>\n",
              "      <td>1997</td>\n",
              "    </tr>\n",
              "  </tbody>\n",
              "</table>\n",
              "</div>"
            ],
            "text/plain": [
              "  Eclipse_Time Eclipse_Type  ... Cleaned_Dates_Month Cleaned_Dates_Year\n",
              "1     23:45:23            A  ...            December               1999\n",
              "2     18:09:16            T  ...                June               1998\n",
              "3      5:57:03            A  ...            November               1998\n",
              "4     13:19:56            P  ...               April               1997\n",
              "5      2:45:35            P  ...                 May               1997\n",
              "\n",
              "[5 rows x 7 columns]"
            ]
          },
          "metadata": {
            "tags": []
          },
          "execution_count": 36
        }
      ]
    },
    {
      "cell_type": "code",
      "metadata": {
        "id": "Jlw9c8y10f0x",
        "colab": {
          "base_uri": "https://localhost:8080/"
        },
        "outputId": "6c44716e-827c-4215-e201-0f45f05b1782"
      },
      "source": [
        "\n",
        "len(df_Categoricals.columns)"
      ],
      "execution_count": 37,
      "outputs": [
        {
          "output_type": "execute_result",
          "data": {
            "text/plain": [
              "7"
            ]
          },
          "metadata": {
            "tags": []
          },
          "execution_count": 37
        }
      ]
    },
    {
      "cell_type": "code",
      "metadata": {
        "id": "LNjHGx4L0f3U",
        "colab": {
          "base_uri": "https://localhost:8080/"
        },
        "outputId": "5c0dbd13-f09a-466f-fb49-973407d3e88b"
      },
      "source": [
        "len(df.dtypes)"
      ],
      "execution_count": 38,
      "outputs": [
        {
          "output_type": "execute_result",
          "data": {
            "text/plain": [
              "16"
            ]
          },
          "metadata": {
            "tags": []
          },
          "execution_count": 38
        }
      ]
    },
    {
      "cell_type": "code",
      "metadata": {
        "id": "EcIjIk9O0f6p"
      },
      "source": [
        "df = df.drop(['Latitude_Number', 'Longitude_Number', 'Latitude_Letter', 'Longitude_Letter', 'Eclipse_Time'], axis=1)"
      ],
      "execution_count": 39,
      "outputs": []
    },
    {
      "cell_type": "code",
      "metadata": {
        "id": "UBaPwBBFLKPl",
        "colab": {
          "base_uri": "https://localhost:8080/",
          "height": 399
        },
        "outputId": "3907f447-d7ae-41ad-cffb-e418243f8894"
      },
      "source": [
        "df_Numericals = df._get_numeric_data()\n",
        "df_Numericals"
      ],
      "execution_count": 40,
      "outputs": [
        {
          "output_type": "execute_result",
          "data": {
            "text/html": [
              "<div>\n",
              "<style scoped>\n",
              "    .dataframe tbody tr th:only-of-type {\n",
              "        vertical-align: middle;\n",
              "    }\n",
              "\n",
              "    .dataframe tbody tr th {\n",
              "        vertical-align: top;\n",
              "    }\n",
              "\n",
              "    .dataframe thead th {\n",
              "        text-align: right;\n",
              "    }\n",
              "</style>\n",
              "<table border=\"1\" class=\"dataframe\">\n",
              "  <thead>\n",
              "    <tr style=\"text-align: right;\">\n",
              "      <th></th>\n",
              "      <th>Delta_T_(s)</th>\n",
              "      <th>Lunation_Number</th>\n",
              "      <th>Saros_Number</th>\n",
              "      <th>Gamma</th>\n",
              "      <th>Eclipse_Magnitude</th>\n",
              "      <th>Sun_Altitude</th>\n",
              "      <th>Sun_Azimuth</th>\n",
              "    </tr>\n",
              "  </thead>\n",
              "  <tbody>\n",
              "    <tr>\n",
              "      <th>1</th>\n",
              "      <td>46426.0</td>\n",
              "      <td>-49450</td>\n",
              "      <td>10.0</td>\n",
              "      <td>-0.2317</td>\n",
              "      <td>0.9382</td>\n",
              "      <td>76.0</td>\n",
              "      <td>21</td>\n",
              "    </tr>\n",
              "    <tr>\n",
              "      <th>2</th>\n",
              "      <td>46415.0</td>\n",
              "      <td>-49444</td>\n",
              "      <td>15.0</td>\n",
              "      <td>0.4994</td>\n",
              "      <td>1.0284</td>\n",
              "      <td>60.0</td>\n",
              "      <td>151</td>\n",
              "    </tr>\n",
              "    <tr>\n",
              "      <th>3</th>\n",
              "      <td>46403.0</td>\n",
              "      <td>-49438</td>\n",
              "      <td>20.0</td>\n",
              "      <td>-0.9045</td>\n",
              "      <td>0.9806</td>\n",
              "      <td>25.0</td>\n",
              "      <td>74</td>\n",
              "    </tr>\n",
              "    <tr>\n",
              "      <th>4</th>\n",
              "      <td>46393.0</td>\n",
              "      <td>-49433</td>\n",
              "      <td>-13.0</td>\n",
              "      <td>-1.4670</td>\n",
              "      <td>0.1611</td>\n",
              "      <td>0.0</td>\n",
              "      <td>281</td>\n",
              "    </tr>\n",
              "    <tr>\n",
              "      <th>5</th>\n",
              "      <td>46391.0</td>\n",
              "      <td>-49432</td>\n",
              "      <td>25.0</td>\n",
              "      <td>1.3253</td>\n",
              "      <td>0.4035</td>\n",
              "      <td>0.0</td>\n",
              "      <td>55</td>\n",
              "    </tr>\n",
              "    <tr>\n",
              "      <th>...</th>\n",
              "      <td>...</td>\n",
              "      <td>...</td>\n",
              "      <td>...</td>\n",
              "      <td>...</td>\n",
              "      <td>...</td>\n",
              "      <td>...</td>\n",
              "      <td>...</td>\n",
              "    </tr>\n",
              "    <tr>\n",
              "      <th>2374</th>\n",
              "      <td>4410.0</td>\n",
              "      <td>12349</td>\n",
              "      <td>182.0</td>\n",
              "      <td>-1.0158</td>\n",
              "      <td>0.9792</td>\n",
              "      <td>0.0</td>\n",
              "      <td>9</td>\n",
              "    </tr>\n",
              "    <tr>\n",
              "      <th>2375</th>\n",
              "      <td>4414.0</td>\n",
              "      <td>12355</td>\n",
              "      <td>187.0</td>\n",
              "      <td>1.2838</td>\n",
              "      <td>0.4773</td>\n",
              "      <td>0.0</td>\n",
              "      <td>179</td>\n",
              "    </tr>\n",
              "    <tr>\n",
              "      <th>2376</th>\n",
              "      <td>4417.0</td>\n",
              "      <td>12360</td>\n",
              "      <td>154.0</td>\n",
              "      <td>0.8388</td>\n",
              "      <td>1.0566</td>\n",
              "      <td>33.0</td>\n",
              "      <td>146</td>\n",
              "    </tr>\n",
              "    <tr>\n",
              "      <th>2377</th>\n",
              "      <td>4420.0</td>\n",
              "      <td>12366</td>\n",
              "      <td>159.0</td>\n",
              "      <td>-1.0023</td>\n",
              "      <td>0.9586</td>\n",
              "      <td>0.0</td>\n",
              "      <td>137</td>\n",
              "    </tr>\n",
              "    <tr>\n",
              "      <th>2378</th>\n",
              "      <td>4424.0</td>\n",
              "      <td>12372</td>\n",
              "      <td>164.0</td>\n",
              "      <td>0.1310</td>\n",
              "      <td>1.0222</td>\n",
              "      <td>82.0</td>\n",
              "      <td>166</td>\n",
              "    </tr>\n",
              "  </tbody>\n",
              "</table>\n",
              "<p>11074 rows × 7 columns</p>\n",
              "</div>"
            ],
            "text/plain": [
              "      Delta_T_(s)  Lunation_Number  ...  Sun_Altitude  Sun_Azimuth\n",
              "1         46426.0           -49450  ...          76.0           21\n",
              "2         46415.0           -49444  ...          60.0          151\n",
              "3         46403.0           -49438  ...          25.0           74\n",
              "4         46393.0           -49433  ...           0.0          281\n",
              "5         46391.0           -49432  ...           0.0           55\n",
              "...           ...              ...  ...           ...          ...\n",
              "2374       4410.0            12349  ...           0.0            9\n",
              "2375       4414.0            12355  ...           0.0          179\n",
              "2376       4417.0            12360  ...          33.0          146\n",
              "2377       4420.0            12366  ...           0.0          137\n",
              "2378       4424.0            12372  ...          82.0          166\n",
              "\n",
              "[11074 rows x 7 columns]"
            ]
          },
          "metadata": {
            "tags": []
          },
          "execution_count": 40
        }
      ]
    },
    {
      "cell_type": "code",
      "metadata": {
        "id": "-Rv5PlsXLXji",
        "colab": {
          "base_uri": "https://localhost:8080/",
          "height": 194
        },
        "outputId": "06ae0ec3-4b6f-445f-811e-d88bf8035f1e"
      },
      "source": [
        "corr_matrix = df_Numericals.corr()\n",
        "corr_matrix.head()"
      ],
      "execution_count": 41,
      "outputs": [
        {
          "output_type": "execute_result",
          "data": {
            "text/html": [
              "<div>\n",
              "<style scoped>\n",
              "    .dataframe tbody tr th:only-of-type {\n",
              "        vertical-align: middle;\n",
              "    }\n",
              "\n",
              "    .dataframe tbody tr th {\n",
              "        vertical-align: top;\n",
              "    }\n",
              "\n",
              "    .dataframe thead th {\n",
              "        text-align: right;\n",
              "    }\n",
              "</style>\n",
              "<table border=\"1\" class=\"dataframe\">\n",
              "  <thead>\n",
              "    <tr style=\"text-align: right;\">\n",
              "      <th></th>\n",
              "      <th>Delta_T_(s)</th>\n",
              "      <th>Lunation_Number</th>\n",
              "      <th>Saros_Number</th>\n",
              "      <th>Gamma</th>\n",
              "      <th>Eclipse_Magnitude</th>\n",
              "      <th>Sun_Altitude</th>\n",
              "      <th>Sun_Azimuth</th>\n",
              "    </tr>\n",
              "  </thead>\n",
              "  <tbody>\n",
              "    <tr>\n",
              "      <th>Delta_T_(s)</th>\n",
              "      <td>1.000000</td>\n",
              "      <td>-0.894725</td>\n",
              "      <td>-0.858658</td>\n",
              "      <td>-0.001880</td>\n",
              "      <td>-0.014261</td>\n",
              "      <td>-0.002621</td>\n",
              "      <td>-0.003974</td>\n",
              "    </tr>\n",
              "    <tr>\n",
              "      <th>Lunation_Number</th>\n",
              "      <td>-0.894725</td>\n",
              "      <td>1.000000</td>\n",
              "      <td>0.963854</td>\n",
              "      <td>0.000418</td>\n",
              "      <td>0.003447</td>\n",
              "      <td>0.001674</td>\n",
              "      <td>0.006122</td>\n",
              "    </tr>\n",
              "    <tr>\n",
              "      <th>Saros_Number</th>\n",
              "      <td>-0.858658</td>\n",
              "      <td>0.963854</td>\n",
              "      <td>1.000000</td>\n",
              "      <td>-0.001052</td>\n",
              "      <td>0.001944</td>\n",
              "      <td>0.001359</td>\n",
              "      <td>-0.034480</td>\n",
              "    </tr>\n",
              "    <tr>\n",
              "      <th>Gamma</th>\n",
              "      <td>-0.001880</td>\n",
              "      <td>0.000418</td>\n",
              "      <td>-0.001052</td>\n",
              "      <td>1.000000</td>\n",
              "      <td>0.004577</td>\n",
              "      <td>0.002135</td>\n",
              "      <td>-0.005310</td>\n",
              "    </tr>\n",
              "    <tr>\n",
              "      <th>Eclipse_Magnitude</th>\n",
              "      <td>-0.014261</td>\n",
              "      <td>0.003447</td>\n",
              "      <td>0.001944</td>\n",
              "      <td>0.004577</td>\n",
              "      <td>1.000000</td>\n",
              "      <td>0.690661</td>\n",
              "      <td>0.006363</td>\n",
              "    </tr>\n",
              "  </tbody>\n",
              "</table>\n",
              "</div>"
            ],
            "text/plain": [
              "                   Delta_T_(s)  Lunation_Number  ...  Sun_Altitude  Sun_Azimuth\n",
              "Delta_T_(s)           1.000000        -0.894725  ...     -0.002621    -0.003974\n",
              "Lunation_Number      -0.894725         1.000000  ...      0.001674     0.006122\n",
              "Saros_Number         -0.858658         0.963854  ...      0.001359    -0.034480\n",
              "Gamma                -0.001880         0.000418  ...      0.002135    -0.005310\n",
              "Eclipse_Magnitude    -0.014261         0.003447  ...      0.690661     0.006363\n",
              "\n",
              "[5 rows x 7 columns]"
            ]
          },
          "metadata": {
            "tags": []
          },
          "execution_count": 41
        }
      ]
    },
    {
      "cell_type": "code",
      "metadata": {
        "id": "ERkfyGn9LXh7",
        "colab": {
          "base_uri": "https://localhost:8080/",
          "height": 588
        },
        "outputId": "f5835d80-9ac9-4821-a40a-d359a21d921c"
      },
      "source": [
        "fig, ax = plt.subplots(figsize=(8,8))\n",
        "heatmap = sns.heatmap(corr_matrix, annot =True, ax=ax)\n",
        "heatmap"
      ],
      "execution_count": 42,
      "outputs": [
        {
          "output_type": "execute_result",
          "data": {
            "text/plain": [
              "<matplotlib.axes._subplots.AxesSubplot at 0x7fabbc4a2550>"
            ]
          },
          "metadata": {
            "tags": []
          },
          "execution_count": 42
        },
        {
          "output_type": "display_data",
          "data": {
            "image/png": "[encoded data removed]",
            "text/plain": [
              "<Figure size 576x576 with 2 Axes>"
            ]
          },
          "metadata": {
            "tags": [],
            "needs_background": "light"
          }
        }
      ]
    },
    {
      "cell_type": "code",
      "metadata": {
        "id": "VeZztaqYLXd6"
      },
      "source": [
        "# Due to high correlation, we are dropping 'Saros_Number' & 'Lunation_Number'\n",
        "\n",
        "df = df.drop(['Saros_Number', 'Lunation_Number'], axis=1)"
      ],
      "execution_count": 43,
      "outputs": []
    },
    {
      "cell_type": "code",
      "metadata": {
        "id": "p-X0fM1iLXZt",
        "colab": {
          "base_uri": "https://localhost:8080/",
          "height": 399
        },
        "outputId": "2b95a801-22a4-40d6-8a3b-504f24ff31b7"
      },
      "source": [
        "df_Numericals = df._get_numeric_data()\n",
        "df_Numericals"
      ],
      "execution_count": 44,
      "outputs": [
        {
          "output_type": "execute_result",
          "data": {
            "text/html": [
              "<div>\n",
              "<style scoped>\n",
              "    .dataframe tbody tr th:only-of-type {\n",
              "        vertical-align: middle;\n",
              "    }\n",
              "\n",
              "    .dataframe tbody tr th {\n",
              "        vertical-align: top;\n",
              "    }\n",
              "\n",
              "    .dataframe thead th {\n",
              "        text-align: right;\n",
              "    }\n",
              "</style>\n",
              "<table border=\"1\" class=\"dataframe\">\n",
              "  <thead>\n",
              "    <tr style=\"text-align: right;\">\n",
              "      <th></th>\n",
              "      <th>Delta_T_(s)</th>\n",
              "      <th>Gamma</th>\n",
              "      <th>Eclipse_Magnitude</th>\n",
              "      <th>Sun_Altitude</th>\n",
              "      <th>Sun_Azimuth</th>\n",
              "    </tr>\n",
              "  </thead>\n",
              "  <tbody>\n",
              "    <tr>\n",
              "      <th>1</th>\n",
              "      <td>46426.0</td>\n",
              "      <td>-0.2317</td>\n",
              "      <td>0.9382</td>\n",
              "      <td>76.0</td>\n",
              "      <td>21</td>\n",
              "    </tr>\n",
              "    <tr>\n",
              "      <th>2</th>\n",
              "      <td>46415.0</td>\n",
              "      <td>0.4994</td>\n",
              "      <td>1.0284</td>\n",
              "      <td>60.0</td>\n",
              "      <td>151</td>\n",
              "    </tr>\n",
              "    <tr>\n",
              "      <th>3</th>\n",
              "      <td>46403.0</td>\n",
              "      <td>-0.9045</td>\n",
              "      <td>0.9806</td>\n",
              "      <td>25.0</td>\n",
              "      <td>74</td>\n",
              "    </tr>\n",
              "    <tr>\n",
              "      <th>4</th>\n",
              "      <td>46393.0</td>\n",
              "      <td>-1.4670</td>\n",
              "      <td>0.1611</td>\n",
              "      <td>0.0</td>\n",
              "      <td>281</td>\n",
              "    </tr>\n",
              "    <tr>\n",
              "      <th>5</th>\n",
              "      <td>46391.0</td>\n",
              "      <td>1.3253</td>\n",
              "      <td>0.4035</td>\n",
              "      <td>0.0</td>\n",
              "      <td>55</td>\n",
              "    </tr>\n",
              "    <tr>\n",
              "      <th>...</th>\n",
              "      <td>...</td>\n",
              "      <td>...</td>\n",
              "      <td>...</td>\n",
              "      <td>...</td>\n",
              "      <td>...</td>\n",
              "    </tr>\n",
              "    <tr>\n",
              "      <th>2374</th>\n",
              "      <td>4410.0</td>\n",
              "      <td>-1.0158</td>\n",
              "      <td>0.9792</td>\n",
              "      <td>0.0</td>\n",
              "      <td>9</td>\n",
              "    </tr>\n",
              "    <tr>\n",
              "      <th>2375</th>\n",
              "      <td>4414.0</td>\n",
              "      <td>1.2838</td>\n",
              "      <td>0.4773</td>\n",
              "      <td>0.0</td>\n",
              "      <td>179</td>\n",
              "    </tr>\n",
              "    <tr>\n",
              "      <th>2376</th>\n",
              "      <td>4417.0</td>\n",
              "      <td>0.8388</td>\n",
              "      <td>1.0566</td>\n",
              "      <td>33.0</td>\n",
              "      <td>146</td>\n",
              "    </tr>\n",
              "    <tr>\n",
              "      <th>2377</th>\n",
              "      <td>4420.0</td>\n",
              "      <td>-1.0023</td>\n",
              "      <td>0.9586</td>\n",
              "      <td>0.0</td>\n",
              "      <td>137</td>\n",
              "    </tr>\n",
              "    <tr>\n",
              "      <th>2378</th>\n",
              "      <td>4424.0</td>\n",
              "      <td>0.1310</td>\n",
              "      <td>1.0222</td>\n",
              "      <td>82.0</td>\n",
              "      <td>166</td>\n",
              "    </tr>\n",
              "  </tbody>\n",
              "</table>\n",
              "<p>11074 rows × 5 columns</p>\n",
              "</div>"
            ],
            "text/plain": [
              "      Delta_T_(s)   Gamma  Eclipse_Magnitude  Sun_Altitude  Sun_Azimuth\n",
              "1         46426.0 -0.2317             0.9382          76.0           21\n",
              "2         46415.0  0.4994             1.0284          60.0          151\n",
              "3         46403.0 -0.9045             0.9806          25.0           74\n",
              "4         46393.0 -1.4670             0.1611           0.0          281\n",
              "5         46391.0  1.3253             0.4035           0.0           55\n",
              "...           ...     ...                ...           ...          ...\n",
              "2374       4410.0 -1.0158             0.9792           0.0            9\n",
              "2375       4414.0  1.2838             0.4773           0.0          179\n",
              "2376       4417.0  0.8388             1.0566          33.0          146\n",
              "2377       4420.0 -1.0023             0.9586           0.0          137\n",
              "2378       4424.0  0.1310             1.0222          82.0          166\n",
              "\n",
              "[11074 rows x 5 columns]"
            ]
          },
          "metadata": {
            "tags": []
          },
          "execution_count": 44
        }
      ]
    },
    {
      "cell_type": "code",
      "metadata": {
        "id": "-WFFRec8LXWU",
        "colab": {
          "base_uri": "https://localhost:8080/",
          "height": 194
        },
        "outputId": "630df67b-6153-4dd7-d48b-5886e8d673de"
      },
      "source": [
        "corr_matrix = df_Numericals.corr()\n",
        "corr_matrix.head()"
      ],
      "execution_count": 45,
      "outputs": [
        {
          "output_type": "execute_result",
          "data": {
            "text/html": [
              "<div>\n",
              "<style scoped>\n",
              "    .dataframe tbody tr th:only-of-type {\n",
              "        vertical-align: middle;\n",
              "    }\n",
              "\n",
              "    .dataframe tbody tr th {\n",
              "        vertical-align: top;\n",
              "    }\n",
              "\n",
              "    .dataframe thead th {\n",
              "        text-align: right;\n",
              "    }\n",
              "</style>\n",
              "<table border=\"1\" class=\"dataframe\">\n",
              "  <thead>\n",
              "    <tr style=\"text-align: right;\">\n",
              "      <th></th>\n",
              "      <th>Delta_T_(s)</th>\n",
              "      <th>Gamma</th>\n",
              "      <th>Eclipse_Magnitude</th>\n",
              "      <th>Sun_Altitude</th>\n",
              "      <th>Sun_Azimuth</th>\n",
              "    </tr>\n",
              "  </thead>\n",
              "  <tbody>\n",
              "    <tr>\n",
              "      <th>Delta_T_(s)</th>\n",
              "      <td>1.000000</td>\n",
              "      <td>-0.001880</td>\n",
              "      <td>-0.014261</td>\n",
              "      <td>-0.002621</td>\n",
              "      <td>-0.003974</td>\n",
              "    </tr>\n",
              "    <tr>\n",
              "      <th>Gamma</th>\n",
              "      <td>-0.001880</td>\n",
              "      <td>1.000000</td>\n",
              "      <td>0.004577</td>\n",
              "      <td>0.002135</td>\n",
              "      <td>-0.005310</td>\n",
              "    </tr>\n",
              "    <tr>\n",
              "      <th>Eclipse_Magnitude</th>\n",
              "      <td>-0.014261</td>\n",
              "      <td>0.004577</td>\n",
              "      <td>1.000000</td>\n",
              "      <td>0.690661</td>\n",
              "      <td>0.006363</td>\n",
              "    </tr>\n",
              "    <tr>\n",
              "      <th>Sun_Altitude</th>\n",
              "      <td>-0.002621</td>\n",
              "      <td>0.002135</td>\n",
              "      <td>0.690661</td>\n",
              "      <td>1.000000</td>\n",
              "      <td>0.005716</td>\n",
              "    </tr>\n",
              "    <tr>\n",
              "      <th>Sun_Azimuth</th>\n",
              "      <td>-0.003974</td>\n",
              "      <td>-0.005310</td>\n",
              "      <td>0.006363</td>\n",
              "      <td>0.005716</td>\n",
              "      <td>1.000000</td>\n",
              "    </tr>\n",
              "  </tbody>\n",
              "</table>\n",
              "</div>"
            ],
            "text/plain": [
              "                   Delta_T_(s)     Gamma  ...  Sun_Altitude  Sun_Azimuth\n",
              "Delta_T_(s)           1.000000 -0.001880  ...     -0.002621    -0.003974\n",
              "Gamma                -0.001880  1.000000  ...      0.002135    -0.005310\n",
              "Eclipse_Magnitude    -0.014261  0.004577  ...      0.690661     0.006363\n",
              "Sun_Altitude         -0.002621  0.002135  ...      1.000000     0.005716\n",
              "Sun_Azimuth          -0.003974 -0.005310  ...      0.005716     1.000000\n",
              "\n",
              "[5 rows x 5 columns]"
            ]
          },
          "metadata": {
            "tags": []
          },
          "execution_count": 45
        }
      ]
    },
    {
      "cell_type": "code",
      "metadata": {
        "id": "hyQWZNZ6LXSy",
        "colab": {
          "base_uri": "https://localhost:8080/",
          "height": 588
        },
        "outputId": "097c102f-096a-4bc3-8778-0a6f5fb2fac5"
      },
      "source": [
        "fig, ax = plt.subplots(figsize=(8,8))\n",
        "heatmap = sns.heatmap(corr_matrix, annot =True, ax=ax)\n",
        "heatmap"
      ],
      "execution_count": 46,
      "outputs": [
        {
          "output_type": "execute_result",
          "data": {
            "text/plain": [
              "<matplotlib.axes._subplots.AxesSubplot at 0x7fabb363b610>"
            ]
          },
          "metadata": {
            "tags": []
          },
          "execution_count": 46
        },
        {
          "output_type": "display_data",
          "data": {
            "image/png": "[encoded data removed]",
            "text/plain": [
              "<Figure size 576x576 with 2 Axes>"
            ]
          },
          "metadata": {
            "tags": [],
            "needs_background": "light"
          }
        }
      ]
    },
    {
      "cell_type": "code",
      "metadata": {
        "id": "ekIOQ8GRLXPQ",
        "colab": {
          "base_uri": "https://localhost:8080/",
          "height": 280
        },
        "outputId": "1791b35d-e17a-4867-9b8d-ca38abd791a5"
      },
      "source": [
        "plt.hist(df[\"Eclipse_Type\"], bins = len(df[\"Eclipse_Type\"].unique()))\n",
        "plt.xticks(rotation='vertical')"
      ],
      "execution_count": 47,
      "outputs": [
        {
          "output_type": "execute_result",
          "data": {
            "text/plain": [
              "([0, 1, 2], <a list of 3 Text major ticklabel objects>)"
            ]
          },
          "metadata": {
            "tags": []
          },
          "execution_count": 47
        },
        {
          "output_type": "display_data",
          "data": {
            "image/png": "[encoded data removed]",
            "text/plain": [
              "<Figure size 432x288 with 1 Axes>"
            ]
          },
          "metadata": {
            "tags": [],
            "needs_background": "light"
          }
        }
      ]
    },
    {
      "cell_type": "code",
      "metadata": {
        "id": "96aqrWKzLXLj"
      },
      "source": [
        "import pandas as pd\n",
        "from sklearn import preprocessing\n",
        "\n",
        "x = df_Numericals.values #returns a numpy array\n",
        "min_max_scaler = preprocessing.MinMaxScaler()\n",
        "x_scaled = min_max_scaler.fit_transform(x)\n",
        "df2 = pd.DataFrame(x_scaled)"
      ],
      "execution_count": 48,
      "outputs": []
    },
    {
      "cell_type": "code",
      "metadata": {
        "id": "qpiUi_x4LXHD",
        "colab": {
          "base_uri": "https://localhost:8080/",
          "height": 194
        },
        "outputId": "0f3def4f-a84f-42fe-c054-7b05d1dc2520"
      },
      "source": [
        "df2.head()"
      ],
      "execution_count": 49,
      "outputs": [
        {
          "output_type": "execute_result",
          "data": {
            "text/html": [
              "<div>\n",
              "<style scoped>\n",
              "    .dataframe tbody tr th:only-of-type {\n",
              "        vertical-align: middle;\n",
              "    }\n",
              "\n",
              "    .dataframe tbody tr th {\n",
              "        vertical-align: top;\n",
              "    }\n",
              "\n",
              "    .dataframe thead th {\n",
              "        text-align: right;\n",
              "    }\n",
              "</style>\n",
              "<table border=\"1\" class=\"dataframe\">\n",
              "  <thead>\n",
              "    <tr style=\"text-align: right;\">\n",
              "      <th></th>\n",
              "      <th>0</th>\n",
              "      <th>1</th>\n",
              "      <th>2</th>\n",
              "      <th>3</th>\n",
              "      <th>4</th>\n",
              "    </tr>\n",
              "  </thead>\n",
              "  <tbody>\n",
              "    <tr>\n",
              "      <th>0</th>\n",
              "      <td>1.000000</td>\n",
              "      <td>0.425946</td>\n",
              "      <td>0.867659</td>\n",
              "      <td>0.844444</td>\n",
              "      <td>0.058333</td>\n",
              "    </tr>\n",
              "    <tr>\n",
              "      <th>1</th>\n",
              "      <td>0.999763</td>\n",
              "      <td>0.658810</td>\n",
              "      <td>0.951077</td>\n",
              "      <td>0.666667</td>\n",
              "      <td>0.419444</td>\n",
              "    </tr>\n",
              "    <tr>\n",
              "      <th>2</th>\n",
              "      <td>0.999505</td>\n",
              "      <td>0.211651</td>\n",
              "      <td>0.906871</td>\n",
              "      <td>0.277778</td>\n",
              "      <td>0.205556</td>\n",
              "    </tr>\n",
              "    <tr>\n",
              "      <th>3</th>\n",
              "      <td>0.999289</td>\n",
              "      <td>0.032488</td>\n",
              "      <td>0.148987</td>\n",
              "      <td>0.000000</td>\n",
              "      <td>0.780556</td>\n",
              "    </tr>\n",
              "    <tr>\n",
              "      <th>4</th>\n",
              "      <td>0.999246</td>\n",
              "      <td>0.921869</td>\n",
              "      <td>0.373162</td>\n",
              "      <td>0.000000</td>\n",
              "      <td>0.152778</td>\n",
              "    </tr>\n",
              "  </tbody>\n",
              "</table>\n",
              "</div>"
            ],
            "text/plain": [
              "          0         1         2         3         4\n",
              "0  1.000000  0.425946  0.867659  0.844444  0.058333\n",
              "1  0.999763  0.658810  0.951077  0.666667  0.419444\n",
              "2  0.999505  0.211651  0.906871  0.277778  0.205556\n",
              "3  0.999289  0.032488  0.148987  0.000000  0.780556\n",
              "4  0.999246  0.921869  0.373162  0.000000  0.152778"
            ]
          },
          "metadata": {
            "tags": []
          },
          "execution_count": 49
        }
      ]
    },
    {
      "cell_type": "code",
      "metadata": {
        "id": "OLRgDVFPLXDZ",
        "colab": {
          "base_uri": "https://localhost:8080/",
          "height": 194
        },
        "outputId": "de287ab0-a2b5-483f-fdf8-0cc844c83b45"
      },
      "source": [
        "df.head()"
      ],
      "execution_count": 50,
      "outputs": [
        {
          "output_type": "execute_result",
          "data": {
            "text/html": [
              "<div>\n",
              "<style scoped>\n",
              "    .dataframe tbody tr th:only-of-type {\n",
              "        vertical-align: middle;\n",
              "    }\n",
              "\n",
              "    .dataframe tbody tr th {\n",
              "        vertical-align: top;\n",
              "    }\n",
              "\n",
              "    .dataframe thead th {\n",
              "        text-align: right;\n",
              "    }\n",
              "</style>\n",
              "<table border=\"1\" class=\"dataframe\">\n",
              "  <thead>\n",
              "    <tr style=\"text-align: right;\">\n",
              "      <th></th>\n",
              "      <th>Delta_T_(s)</th>\n",
              "      <th>Eclipse_Type</th>\n",
              "      <th>Gamma</th>\n",
              "      <th>Eclipse_Magnitude</th>\n",
              "      <th>Sun_Altitude</th>\n",
              "      <th>Sun_Azimuth</th>\n",
              "      <th>Cleaned_Dates</th>\n",
              "      <th>Cleaned_Dates_Month</th>\n",
              "      <th>Cleaned_Dates_Year</th>\n",
              "    </tr>\n",
              "  </thead>\n",
              "  <tbody>\n",
              "    <tr>\n",
              "      <th>1</th>\n",
              "      <td>46426.0</td>\n",
              "      <td>A</td>\n",
              "      <td>-0.2317</td>\n",
              "      <td>0.9382</td>\n",
              "      <td>76.0</td>\n",
              "      <td>21</td>\n",
              "      <td>1999 December 5</td>\n",
              "      <td>December</td>\n",
              "      <td>1999</td>\n",
              "    </tr>\n",
              "    <tr>\n",
              "      <th>2</th>\n",
              "      <td>46415.0</td>\n",
              "      <td>T</td>\n",
              "      <td>0.4994</td>\n",
              "      <td>1.0284</td>\n",
              "      <td>60.0</td>\n",
              "      <td>151</td>\n",
              "      <td>1998 June 1</td>\n",
              "      <td>June</td>\n",
              "      <td>1998</td>\n",
              "    </tr>\n",
              "    <tr>\n",
              "      <th>3</th>\n",
              "      <td>46403.0</td>\n",
              "      <td>A</td>\n",
              "      <td>-0.9045</td>\n",
              "      <td>0.9806</td>\n",
              "      <td>25.0</td>\n",
              "      <td>74</td>\n",
              "      <td>1998 November 25</td>\n",
              "      <td>November</td>\n",
              "      <td>1998</td>\n",
              "    </tr>\n",
              "    <tr>\n",
              "      <th>4</th>\n",
              "      <td>46393.0</td>\n",
              "      <td>P</td>\n",
              "      <td>-1.4670</td>\n",
              "      <td>0.1611</td>\n",
              "      <td>0.0</td>\n",
              "      <td>281</td>\n",
              "      <td>1997 April 22</td>\n",
              "      <td>April</td>\n",
              "      <td>1997</td>\n",
              "    </tr>\n",
              "    <tr>\n",
              "      <th>5</th>\n",
              "      <td>46391.0</td>\n",
              "      <td>P</td>\n",
              "      <td>1.3253</td>\n",
              "      <td>0.4035</td>\n",
              "      <td>0.0</td>\n",
              "      <td>55</td>\n",
              "      <td>1997 May 22</td>\n",
              "      <td>May</td>\n",
              "      <td>1997</td>\n",
              "    </tr>\n",
              "  </tbody>\n",
              "</table>\n",
              "</div>"
            ],
            "text/plain": [
              "   Delta_T_(s) Eclipse_Type  ...  Cleaned_Dates_Month  Cleaned_Dates_Year\n",
              "1      46426.0            A  ...             December                1999\n",
              "2      46415.0            T  ...                 June                1998\n",
              "3      46403.0            A  ...             November                1998\n",
              "4      46393.0            P  ...                April                1997\n",
              "5      46391.0            P  ...                  May                1997\n",
              "\n",
              "[5 rows x 9 columns]"
            ]
          },
          "metadata": {
            "tags": []
          },
          "execution_count": 50
        }
      ]
    },
    {
      "cell_type": "code",
      "metadata": {
        "id": "w0ibYSqeLW_P",
        "colab": {
          "base_uri": "https://localhost:8080/"
        },
        "outputId": "6daeb8c3-51e6-4136-cd2a-cb9a113eeca2"
      },
      "source": [
        "df.dtypes"
      ],
      "execution_count": 51,
      "outputs": [
        {
          "output_type": "execute_result",
          "data": {
            "text/plain": [
              "Delta_T_(s)            float64\n",
              "Eclipse_Type            object\n",
              "Gamma                  float64\n",
              "Eclipse_Magnitude      float64\n",
              "Sun_Altitude           float64\n",
              "Sun_Azimuth              int64\n",
              "Cleaned_Dates           object\n",
              "Cleaned_Dates_Month     object\n",
              "Cleaned_Dates_Year      object\n",
              "dtype: object"
            ]
          },
          "metadata": {
            "tags": []
          },
          "execution_count": 51
        }
      ]
    },
    {
      "cell_type": "code",
      "metadata": {
        "id": "qu4mqKiwLVf-",
        "colab": {
          "base_uri": "https://localhost:8080/",
          "height": 194
        },
        "outputId": "002a2e4e-3c4f-4e85-d3a0-734fc71cbb98"
      },
      "source": [
        "df_Categoricals.head()"
      ],
      "execution_count": 52,
      "outputs": [
        {
          "output_type": "execute_result",
          "data": {
            "text/html": [
              "<div>\n",
              "<style scoped>\n",
              "    .dataframe tbody tr th:only-of-type {\n",
              "        vertical-align: middle;\n",
              "    }\n",
              "\n",
              "    .dataframe tbody tr th {\n",
              "        vertical-align: top;\n",
              "    }\n",
              "\n",
              "    .dataframe thead th {\n",
              "        text-align: right;\n",
              "    }\n",
              "</style>\n",
              "<table border=\"1\" class=\"dataframe\">\n",
              "  <thead>\n",
              "    <tr style=\"text-align: right;\">\n",
              "      <th></th>\n",
              "      <th>Eclipse_Time</th>\n",
              "      <th>Eclipse_Type</th>\n",
              "      <th>Latitude_Letter</th>\n",
              "      <th>Longitude_Letter</th>\n",
              "      <th>Cleaned_Dates</th>\n",
              "      <th>Cleaned_Dates_Month</th>\n",
              "      <th>Cleaned_Dates_Year</th>\n",
              "    </tr>\n",
              "  </thead>\n",
              "  <tbody>\n",
              "    <tr>\n",
              "      <th>1</th>\n",
              "      <td>23:45:23</td>\n",
              "      <td>A</td>\n",
              "      <td>S</td>\n",
              "      <td>E</td>\n",
              "      <td>1999 December 5</td>\n",
              "      <td>December</td>\n",
              "      <td>1999</td>\n",
              "    </tr>\n",
              "    <tr>\n",
              "      <th>2</th>\n",
              "      <td>18:09:16</td>\n",
              "      <td>T</td>\n",
              "      <td>N</td>\n",
              "      <td>E</td>\n",
              "      <td>1998 June 1</td>\n",
              "      <td>June</td>\n",
              "      <td>1998</td>\n",
              "    </tr>\n",
              "    <tr>\n",
              "      <th>3</th>\n",
              "      <td>5:57:03</td>\n",
              "      <td>A</td>\n",
              "      <td>S</td>\n",
              "      <td>W</td>\n",
              "      <td>1998 November 25</td>\n",
              "      <td>November</td>\n",
              "      <td>1998</td>\n",
              "    </tr>\n",
              "    <tr>\n",
              "      <th>4</th>\n",
              "      <td>13:19:56</td>\n",
              "      <td>P</td>\n",
              "      <td>S</td>\n",
              "      <td>W</td>\n",
              "      <td>1997 April 22</td>\n",
              "      <td>April</td>\n",
              "      <td>1997</td>\n",
              "    </tr>\n",
              "    <tr>\n",
              "      <th>5</th>\n",
              "      <td>2:45:35</td>\n",
              "      <td>P</td>\n",
              "      <td>N</td>\n",
              "      <td>W</td>\n",
              "      <td>1997 May 22</td>\n",
              "      <td>May</td>\n",
              "      <td>1997</td>\n",
              "    </tr>\n",
              "  </tbody>\n",
              "</table>\n",
              "</div>"
            ],
            "text/plain": [
              "  Eclipse_Time Eclipse_Type  ... Cleaned_Dates_Month Cleaned_Dates_Year\n",
              "1     23:45:23            A  ...            December               1999\n",
              "2     18:09:16            T  ...                June               1998\n",
              "3      5:57:03            A  ...            November               1998\n",
              "4     13:19:56            P  ...               April               1997\n",
              "5      2:45:35            P  ...                 May               1997\n",
              "\n",
              "[5 rows x 7 columns]"
            ]
          },
          "metadata": {
            "tags": []
          },
          "execution_count": 52
        }
      ]
    },
    {
      "cell_type": "code",
      "metadata": {
        "id": "9mnRDeKjOkKG",
        "colab": {
          "base_uri": "https://localhost:8080/"
        },
        "outputId": "59e98f51-fbef-40a9-9ef3-5988b70cce9a"
      },
      "source": [
        "df.columns"
      ],
      "execution_count": 53,
      "outputs": [
        {
          "output_type": "execute_result",
          "data": {
            "text/plain": [
              "Index(['Delta_T_(s)', 'Eclipse_Type', 'Gamma', 'Eclipse_Magnitude',\n",
              "       'Sun_Altitude', 'Sun_Azimuth', 'Cleaned_Dates', 'Cleaned_Dates_Month',\n",
              "       'Cleaned_Dates_Year'],\n",
              "      dtype='object')"
            ]
          },
          "metadata": {
            "tags": []
          },
          "execution_count": 53
        }
      ]
    },
    {
      "cell_type": "code",
      "metadata": {
        "id": "S5pvezOpOljB",
        "colab": {
          "base_uri": "https://localhost:8080/",
          "height": 399
        },
        "outputId": "48851c87-5b01-41c4-f567-0f4fe2ee5ca0"
      },
      "source": [
        "numericals = df._get_numeric_data()\n",
        "numericals = pd.DataFrame(numericals)\n",
        "numericals"
      ],
      "execution_count": 54,
      "outputs": [
        {
          "output_type": "execute_result",
          "data": {
            "text/html": [
              "<div>\n",
              "<style scoped>\n",
              "    .dataframe tbody tr th:only-of-type {\n",
              "        vertical-align: middle;\n",
              "    }\n",
              "\n",
              "    .dataframe tbody tr th {\n",
              "        vertical-align: top;\n",
              "    }\n",
              "\n",
              "    .dataframe thead th {\n",
              "        text-align: right;\n",
              "    }\n",
              "</style>\n",
              "<table border=\"1\" class=\"dataframe\">\n",
              "  <thead>\n",
              "    <tr style=\"text-align: right;\">\n",
              "      <th></th>\n",
              "      <th>Delta_T_(s)</th>\n",
              "      <th>Gamma</th>\n",
              "      <th>Eclipse_Magnitude</th>\n",
              "      <th>Sun_Altitude</th>\n",
              "      <th>Sun_Azimuth</th>\n",
              "    </tr>\n",
              "  </thead>\n",
              "  <tbody>\n",
              "    <tr>\n",
              "      <th>1</th>\n",
              "      <td>46426.0</td>\n",
              "      <td>-0.2317</td>\n",
              "      <td>0.9382</td>\n",
              "      <td>76.0</td>\n",
              "      <td>21</td>\n",
              "    </tr>\n",
              "    <tr>\n",
              "      <th>2</th>\n",
              "      <td>46415.0</td>\n",
              "      <td>0.4994</td>\n",
              "      <td>1.0284</td>\n",
              "      <td>60.0</td>\n",
              "      <td>151</td>\n",
              "    </tr>\n",
              "    <tr>\n",
              "      <th>3</th>\n",
              "      <td>46403.0</td>\n",
              "      <td>-0.9045</td>\n",
              "      <td>0.9806</td>\n",
              "      <td>25.0</td>\n",
              "      <td>74</td>\n",
              "    </tr>\n",
              "    <tr>\n",
              "      <th>4</th>\n",
              "      <td>46393.0</td>\n",
              "      <td>-1.4670</td>\n",
              "      <td>0.1611</td>\n",
              "      <td>0.0</td>\n",
              "      <td>281</td>\n",
              "    </tr>\n",
              "    <tr>\n",
              "      <th>5</th>\n",
              "      <td>46391.0</td>\n",
              "      <td>1.3253</td>\n",
              "      <td>0.4035</td>\n",
              "      <td>0.0</td>\n",
              "      <td>55</td>\n",
              "    </tr>\n",
              "    <tr>\n",
              "      <th>...</th>\n",
              "      <td>...</td>\n",
              "      <td>...</td>\n",
              "      <td>...</td>\n",
              "      <td>...</td>\n",
              "      <td>...</td>\n",
              "    </tr>\n",
              "    <tr>\n",
              "      <th>2374</th>\n",
              "      <td>4410.0</td>\n",
              "      <td>-1.0158</td>\n",
              "      <td>0.9792</td>\n",
              "      <td>0.0</td>\n",
              "      <td>9</td>\n",
              "    </tr>\n",
              "    <tr>\n",
              "      <th>2375</th>\n",
              "      <td>4414.0</td>\n",
              "      <td>1.2838</td>\n",
              "      <td>0.4773</td>\n",
              "      <td>0.0</td>\n",
              "      <td>179</td>\n",
              "    </tr>\n",
              "    <tr>\n",
              "      <th>2376</th>\n",
              "      <td>4417.0</td>\n",
              "      <td>0.8388</td>\n",
              "      <td>1.0566</td>\n",
              "      <td>33.0</td>\n",
              "      <td>146</td>\n",
              "    </tr>\n",
              "    <tr>\n",
              "      <th>2377</th>\n",
              "      <td>4420.0</td>\n",
              "      <td>-1.0023</td>\n",
              "      <td>0.9586</td>\n",
              "      <td>0.0</td>\n",
              "      <td>137</td>\n",
              "    </tr>\n",
              "    <tr>\n",
              "      <th>2378</th>\n",
              "      <td>4424.0</td>\n",
              "      <td>0.1310</td>\n",
              "      <td>1.0222</td>\n",
              "      <td>82.0</td>\n",
              "      <td>166</td>\n",
              "    </tr>\n",
              "  </tbody>\n",
              "</table>\n",
              "<p>11074 rows × 5 columns</p>\n",
              "</div>"
            ],
            "text/plain": [
              "      Delta_T_(s)   Gamma  Eclipse_Magnitude  Sun_Altitude  Sun_Azimuth\n",
              "1         46426.0 -0.2317             0.9382          76.0           21\n",
              "2         46415.0  0.4994             1.0284          60.0          151\n",
              "3         46403.0 -0.9045             0.9806          25.0           74\n",
              "4         46393.0 -1.4670             0.1611           0.0          281\n",
              "5         46391.0  1.3253             0.4035           0.0           55\n",
              "...           ...     ...                ...           ...          ...\n",
              "2374       4410.0 -1.0158             0.9792           0.0            9\n",
              "2375       4414.0  1.2838             0.4773           0.0          179\n",
              "2376       4417.0  0.8388             1.0566          33.0          146\n",
              "2377       4420.0 -1.0023             0.9586           0.0          137\n",
              "2378       4424.0  0.1310             1.0222          82.0          166\n",
              "\n",
              "[11074 rows x 5 columns]"
            ]
          },
          "metadata": {
            "tags": []
          },
          "execution_count": 54
        }
      ]
    },
    {
      "cell_type": "code",
      "metadata": {
        "id": "UZ5n3Kt_Ole1",
        "colab": {
          "base_uri": "https://localhost:8080/",
          "height": 399
        },
        "outputId": "22205c13-db13-4a24-9b77-fc0dd35c554b"
      },
      "source": [
        "from sklearn.preprocessing import Normalizer\n",
        "transformer = Normalizer().fit(numericals)\n",
        "normalized_x = transformer.transform(numericals)\n",
        "pd.DataFrame(normalized_x)"
      ],
      "execution_count": 55,
      "outputs": [
        {
          "output_type": "execute_result",
          "data": {
            "text/html": [
              "<div>\n",
              "<style scoped>\n",
              "    .dataframe tbody tr th:only-of-type {\n",
              "        vertical-align: middle;\n",
              "    }\n",
              "\n",
              "    .dataframe tbody tr th {\n",
              "        vertical-align: top;\n",
              "    }\n",
              "\n",
              "    .dataframe thead th {\n",
              "        text-align: right;\n",
              "    }\n",
              "</style>\n",
              "<table border=\"1\" class=\"dataframe\">\n",
              "  <thead>\n",
              "    <tr style=\"text-align: right;\">\n",
              "      <th></th>\n",
              "      <th>0</th>\n",
              "      <th>1</th>\n",
              "      <th>2</th>\n",
              "      <th>3</th>\n",
              "      <th>4</th>\n",
              "    </tr>\n",
              "  </thead>\n",
              "  <tbody>\n",
              "    <tr>\n",
              "      <th>0</th>\n",
              "      <td>0.999999</td>\n",
              "      <td>-0.000005</td>\n",
              "      <td>0.000020</td>\n",
              "      <td>0.001637</td>\n",
              "      <td>0.000452</td>\n",
              "    </tr>\n",
              "    <tr>\n",
              "      <th>1</th>\n",
              "      <td>0.999994</td>\n",
              "      <td>0.000011</td>\n",
              "      <td>0.000022</td>\n",
              "      <td>0.001293</td>\n",
              "      <td>0.003253</td>\n",
              "    </tr>\n",
              "    <tr>\n",
              "      <th>2</th>\n",
              "      <td>0.999999</td>\n",
              "      <td>-0.000019</td>\n",
              "      <td>0.000021</td>\n",
              "      <td>0.000539</td>\n",
              "      <td>0.001595</td>\n",
              "    </tr>\n",
              "    <tr>\n",
              "      <th>3</th>\n",
              "      <td>0.999982</td>\n",
              "      <td>-0.000032</td>\n",
              "      <td>0.000003</td>\n",
              "      <td>0.000000</td>\n",
              "      <td>0.006057</td>\n",
              "    </tr>\n",
              "    <tr>\n",
              "      <th>4</th>\n",
              "      <td>0.999999</td>\n",
              "      <td>0.000029</td>\n",
              "      <td>0.000009</td>\n",
              "      <td>0.000000</td>\n",
              "      <td>0.001186</td>\n",
              "    </tr>\n",
              "    <tr>\n",
              "      <th>...</th>\n",
              "      <td>...</td>\n",
              "      <td>...</td>\n",
              "      <td>...</td>\n",
              "      <td>...</td>\n",
              "      <td>...</td>\n",
              "    </tr>\n",
              "    <tr>\n",
              "      <th>11069</th>\n",
              "      <td>0.999998</td>\n",
              "      <td>-0.000230</td>\n",
              "      <td>0.000222</td>\n",
              "      <td>0.000000</td>\n",
              "      <td>0.002041</td>\n",
              "    </tr>\n",
              "    <tr>\n",
              "      <th>11070</th>\n",
              "      <td>0.999179</td>\n",
              "      <td>0.000291</td>\n",
              "      <td>0.000108</td>\n",
              "      <td>0.000000</td>\n",
              "      <td>0.040519</td>\n",
              "    </tr>\n",
              "    <tr>\n",
              "      <th>11071</th>\n",
              "      <td>0.999426</td>\n",
              "      <td>0.000190</td>\n",
              "      <td>0.000239</td>\n",
              "      <td>0.007467</td>\n",
              "      <td>0.033035</td>\n",
              "    </tr>\n",
              "    <tr>\n",
              "      <th>11072</th>\n",
              "      <td>0.999520</td>\n",
              "      <td>-0.000227</td>\n",
              "      <td>0.000217</td>\n",
              "      <td>0.000000</td>\n",
              "      <td>0.030981</td>\n",
              "    </tr>\n",
              "    <tr>\n",
              "      <th>11073</th>\n",
              "      <td>0.999125</td>\n",
              "      <td>0.000030</td>\n",
              "      <td>0.000231</td>\n",
              "      <td>0.018519</td>\n",
              "      <td>0.037490</td>\n",
              "    </tr>\n",
              "  </tbody>\n",
              "</table>\n",
              "<p>11074 rows × 5 columns</p>\n",
              "</div>"
            ],
            "text/plain": [
              "              0         1         2         3         4\n",
              "0      0.999999 -0.000005  0.000020  0.001637  0.000452\n",
              "1      0.999994  0.000011  0.000022  0.001293  0.003253\n",
              "2      0.999999 -0.000019  0.000021  0.000539  0.001595\n",
              "3      0.999982 -0.000032  0.000003  0.000000  0.006057\n",
              "4      0.999999  0.000029  0.000009  0.000000  0.001186\n",
              "...         ...       ...       ...       ...       ...\n",
              "11069  0.999998 -0.000230  0.000222  0.000000  0.002041\n",
              "11070  0.999179  0.000291  0.000108  0.000000  0.040519\n",
              "11071  0.999426  0.000190  0.000239  0.007467  0.033035\n",
              "11072  0.999520 -0.000227  0.000217  0.000000  0.030981\n",
              "11073  0.999125  0.000030  0.000231  0.018519  0.037490\n",
              "\n",
              "[11074 rows x 5 columns]"
            ]
          },
          "metadata": {
            "tags": []
          },
          "execution_count": 55
        }
      ]
    },
    {
      "cell_type": "code",
      "metadata": {
        "id": "0Toc079ZOlZr"
      },
      "source": [
        "categoricals = df.select_dtypes('object')\n",
        "categoricals = categoricals['Eclipse_Type']\n",
        "y = categoricals"
      ],
      "execution_count": 56,
      "outputs": []
    },
    {
      "cell_type": "code",
      "metadata": {
        "id": "TDiGsEhsOlWn"
      },
      "source": [
        "import pandas as pd\n",
        "from sklearn import linear_model\n",
        "from sklearn.model_selection import train_test_split\n",
        "from matplotlib import pyplot as plt"
      ],
      "execution_count": 57,
      "outputs": []
    },
    {
      "cell_type": "code",
      "metadata": {
        "id": "RKZaFvFnOlUd"
      },
      "source": [
        "# defining the target variable (dependent variable) as y\n",
        "\n",
        "y = df.Eclipse_Type"
      ],
      "execution_count": 58,
      "outputs": []
    },
    {
      "cell_type": "code",
      "metadata": {
        "id": "zA_lyoITOlRJ",
        "colab": {
          "base_uri": "https://localhost:8080/"
        },
        "outputId": "e3984d76-a8e0-4b97-a0eb-476f91b837cc"
      },
      "source": [
        "from sklearn.preprocessing import LabelEncoder \n",
        "le = LabelEncoder()  \n",
        "y = le.fit_transform(y)\n",
        "y"
      ],
      "execution_count": 59,
      "outputs": [
        {
          "output_type": "execute_result",
          "data": {
            "text/plain": [
              "array([0, 2, 0, ..., 2, 0, 2])"
            ]
          },
          "metadata": {
            "tags": []
          },
          "execution_count": 59
        }
      ]
    },
    {
      "cell_type": "code",
      "metadata": {
        "id": "MSjb9wkROlOR"
      },
      "source": [
        "# creating training and testing variables\n",
        "# test_size = the percentage of the data for testing. It’s usually around 80/20 or 70/30. In this case 80/20\n",
        "\n",
        "X_train, X_test, y_train, y_test = train_test_split(normalized_x, y, test_size=0.2)"
      ],
      "execution_count": 60,
      "outputs": []
    },
    {
      "cell_type": "code",
      "metadata": {
        "id": "z5HVjSFtOlLq",
        "colab": {
          "base_uri": "https://localhost:8080/"
        },
        "outputId": "f511bdc6-4c6a-4d85-82fd-774bbdcda9a8"
      },
      "source": [
        "print(X_train.shape, y_train.shape)\n",
        "print(X_test.shape, y_test.shape)"
      ],
      "execution_count": 61,
      "outputs": [
        {
          "output_type": "stream",
          "text": [
            "(8859, 5) (8859,)\n",
            "(2215, 5) (2215,)\n"
          ],
          "name": "stdout"
        }
      ]
    },
    {
      "cell_type": "markdown",
      "metadata": {
        "id": "r2it7NxKoGEh"
      },
      "source": [
        "##Using Linear Regression"
      ]
    },
    {
      "cell_type": "code",
      "metadata": {
        "id": "q0orzd3VOlJF"
      },
      "source": [
        "# fitting the model on the training data\n",
        "\n",
        "\n",
        "lm = linear_model.LinearRegression()\n",
        "model = lm.fit(X_train, y_train)\n",
        "predictions = lm.predict(X_test)"
      ],
      "execution_count": 62,
      "outputs": []
    },
    {
      "cell_type": "code",
      "metadata": {
        "id": "iI92HQzbOlG1",
        "colab": {
          "base_uri": "https://localhost:8080/"
        },
        "outputId": "d1d38fee-9868-4ed8-eddd-1a640f3f7332"
      },
      "source": [
        "# show first five predicted values\n",
        "predictions[0:5]"
      ],
      "execution_count": 63,
      "outputs": [
        {
          "output_type": "execute_result",
          "data": {
            "text/plain": [
              "array([0.93791445, 0.92778967, 0.90933984, 0.89729202, 0.93933974])"
            ]
          },
          "metadata": {
            "tags": []
          },
          "execution_count": 63
        }
      ]
    },
    {
      "cell_type": "code",
      "metadata": {
        "id": "kfRsPD58Ok8j",
        "colab": {
          "base_uri": "https://localhost:8080/",
          "height": 298
        },
        "outputId": "585e9369-a478-4f08-f3e0-84678fc576b6"
      },
      "source": [
        "# plotting the model - The line / model\n",
        "\n",
        "plt.scatter(y_test, predictions)\n",
        "plt.xlabel(['True_Values'])\n",
        "plt.ylabel(['Predictions'])"
      ],
      "execution_count": 64,
      "outputs": [
        {
          "output_type": "execute_result",
          "data": {
            "text/plain": [
              "Text(0, 0.5, \"['Predictions']\")"
            ]
          },
          "metadata": {
            "tags": []
          },
          "execution_count": 64
        },
        {
          "output_type": "display_data",
          "data": {
            "image/png": "[encoded data removed]",
            "text/plain": [
              "<Figure size 432x288 with 1 Axes>"
            ]
          },
          "metadata": {
            "tags": [],
            "needs_background": "light"
          }
        }
      ]
    },
    {
      "cell_type": "markdown",
      "metadata": {
        "id": "KUeuS2FCoLaF"
      },
      "source": [
        "##Using Logistic Regression"
      ]
    },
    {
      "cell_type": "code",
      "metadata": {
        "id": "-_NmiKQdnv6F"
      },
      "source": [
        "from sklearn.datasets import load_iris\n",
        "from sklearn.linear_model import LogisticRegression"
      ],
      "execution_count": 65,
      "outputs": []
    },
    {
      "cell_type": "code",
      "metadata": {
        "id": "RcNbSH4YoTcM"
      },
      "source": [
        "# Training the Logistic Regression Model:"
      ],
      "execution_count": 66,
      "outputs": []
    },
    {
      "cell_type": "code",
      "metadata": {
        "id": "nqxFg8fYoXiU"
      },
      "source": [
        "# Split data into 'X' features and 'y' target label sets\n",
        "\n",
        "X = normalized_x\n",
        "y = le.fit_transform(y)\n"
      ],
      "execution_count": 67,
      "outputs": []
    },
    {
      "cell_type": "code",
      "metadata": {
        "id": "7EuqL2flobUE"
      },
      "source": [
        "# Import module to split dataset\n",
        "\n",
        "from sklearn.model_selection import train_test_split\n",
        "\n",
        "# Split data set into training and test sets\n",
        "X_train, X_test, y_train, y_test = train_test_split(X, y, test_size=0.2) \n",
        "# random_state= _no._ simply sets a seed to the random generator, so that your train-test splits are always deterministic. If you don't set a seed, it is different each time."
      ],
      "execution_count": 68,
      "outputs": []
    },
    {
      "cell_type": "code",
      "metadata": {
        "id": "FBumeOlwof77",
        "colab": {
          "base_uri": "https://localhost:8080/"
        },
        "outputId": "72d4c1a1-d256-4c1b-fd80-2dcc9e04f539"
      },
      "source": [
        "from sklearn.linear_model import LogisticRegression\n",
        "\n",
        "# Create instance (i.e. object) of LogisticRegression\n",
        "logmodel = LogisticRegression()\n",
        "\n",
        "# Fit the model using the training data\n",
        "# X_train -> parameter supplies the data features\n",
        "# y_train -> parameter supplies the target labels\n",
        "logmodel.fit(X_train, y_train)"
      ],
      "execution_count": 69,
      "outputs": [
        {
          "output_type": "execute_result",
          "data": {
            "text/plain": [
              "LogisticRegression(C=1.0, class_weight=None, dual=False, fit_intercept=True,\n",
              "                   intercept_scaling=1, l1_ratio=None, max_iter=100,\n",
              "                   multi_class='auto', n_jobs=None, penalty='l2',\n",
              "                   random_state=None, solver='lbfgs', tol=0.0001, verbose=0,\n",
              "                   warm_start=False)"
            ]
          },
          "metadata": {
            "tags": []
          },
          "execution_count": 69
        }
      ]
    },
    {
      "cell_type": "code",
      "metadata": {
        "id": "8m5gR2X4oi3S",
        "colab": {
          "base_uri": "https://localhost:8080/",
          "height": 399
        },
        "outputId": "7adbdc26-bd61-4f0e-8c00-d316308f598f"
      },
      "source": [
        "pd.DataFrame(y_test)"
      ],
      "execution_count": 70,
      "outputs": [
        {
          "output_type": "execute_result",
          "data": {
            "text/html": [
              "<div>\n",
              "<style scoped>\n",
              "    .dataframe tbody tr th:only-of-type {\n",
              "        vertical-align: middle;\n",
              "    }\n",
              "\n",
              "    .dataframe tbody tr th {\n",
              "        vertical-align: top;\n",
              "    }\n",
              "\n",
              "    .dataframe thead th {\n",
              "        text-align: right;\n",
              "    }\n",
              "</style>\n",
              "<table border=\"1\" class=\"dataframe\">\n",
              "  <thead>\n",
              "    <tr style=\"text-align: right;\">\n",
              "      <th></th>\n",
              "      <th>0</th>\n",
              "    </tr>\n",
              "  </thead>\n",
              "  <tbody>\n",
              "    <tr>\n",
              "      <th>0</th>\n",
              "      <td>2</td>\n",
              "    </tr>\n",
              "    <tr>\n",
              "      <th>1</th>\n",
              "      <td>0</td>\n",
              "    </tr>\n",
              "    <tr>\n",
              "      <th>2</th>\n",
              "      <td>2</td>\n",
              "    </tr>\n",
              "    <tr>\n",
              "      <th>3</th>\n",
              "      <td>0</td>\n",
              "    </tr>\n",
              "    <tr>\n",
              "      <th>4</th>\n",
              "      <td>1</td>\n",
              "    </tr>\n",
              "    <tr>\n",
              "      <th>...</th>\n",
              "      <td>...</td>\n",
              "    </tr>\n",
              "    <tr>\n",
              "      <th>2210</th>\n",
              "      <td>0</td>\n",
              "    </tr>\n",
              "    <tr>\n",
              "      <th>2211</th>\n",
              "      <td>1</td>\n",
              "    </tr>\n",
              "    <tr>\n",
              "      <th>2212</th>\n",
              "      <td>1</td>\n",
              "    </tr>\n",
              "    <tr>\n",
              "      <th>2213</th>\n",
              "      <td>1</td>\n",
              "    </tr>\n",
              "    <tr>\n",
              "      <th>2214</th>\n",
              "      <td>0</td>\n",
              "    </tr>\n",
              "  </tbody>\n",
              "</table>\n",
              "<p>2215 rows × 1 columns</p>\n",
              "</div>"
            ],
            "text/plain": [
              "      0\n",
              "0     2\n",
              "1     0\n",
              "2     2\n",
              "3     0\n",
              "4     1\n",
              "...  ..\n",
              "2210  0\n",
              "2211  1\n",
              "2212  1\n",
              "2213  1\n",
              "2214  0\n",
              "\n",
              "[2215 rows x 1 columns]"
            ]
          },
          "metadata": {
            "tags": []
          },
          "execution_count": 70
        }
      ]
    },
    {
      "cell_type": "code",
      "metadata": {
        "id": "TM1kBq0soqqB"
      },
      "source": [
        "from sklearn.metrics import classification_report, accuracy_score\n",
        "predictions = logmodel.predict(pd.DataFrame(X_test))"
      ],
      "execution_count": 71,
      "outputs": []
    },
    {
      "cell_type": "code",
      "metadata": {
        "id": "-kjd7Enqougn",
        "colab": {
          "base_uri": "https://localhost:8080/"
        },
        "outputId": "f8cbb130-5904-46e3-faed-a0fbba1f139e"
      },
      "source": [
        "print(classification_report(y_test, predictions))\n",
        "print(accuracy_score(y_test, predictions))"
      ],
      "execution_count": 72,
      "outputs": [
        {
          "output_type": "stream",
          "text": [
            "              precision    recall  f1-score   support\n",
            "\n",
            "           0       0.55      0.48      0.51       754\n",
            "           1       0.54      1.00      0.70       837\n",
            "           2       0.00      0.00      0.00       624\n",
            "\n",
            "    accuracy                           0.54      2215\n",
            "   macro avg       0.36      0.49      0.40      2215\n",
            "weighted avg       0.39      0.54      0.44      2215\n",
            "\n",
            "0.5399548532731377\n"
          ],
          "name": "stdout"
        },
        {
          "output_type": "stream",
          "text": [
            "/usr/local/lib/python3.7/dist-packages/sklearn/metrics/_classification.py:1272: UndefinedMetricWarning: Precision and F-score are ill-defined and being set to 0.0 in labels with no predicted samples. Use `zero_division` parameter to control this behavior.\n",
            "  _warn_prf(average, modifier, msg_start, len(result))\n"
          ],
          "name": "stderr"
        }
      ]
    },
    {
      "cell_type": "markdown",
      "metadata": {
        "id": "5XiYtcqjo5hQ"
      },
      "source": [
        "##Using Random Forest Algorithm"
      ]
    },
    {
      "cell_type": "code",
      "metadata": {
        "id": "OGrsIdYwoyV7"
      },
      "source": [
        "from sklearn.model_selection import train_test_split\n",
        "\n",
        "X_train, X_test, y_train, y_test = train_test_split(X, y, test_size=0.2)"
      ],
      "execution_count": 73,
      "outputs": []
    },
    {
      "cell_type": "code",
      "metadata": {
        "id": "ii8CbqcNpPSV"
      },
      "source": [
        "# Feature Scaling\n",
        "from sklearn.preprocessing import StandardScaler\n",
        "sc = StandardScaler()\n",
        "X_train = sc.fit_transform(X_train)\n",
        "X_test = sc.transform(X_test)"
      ],
      "execution_count": 74,
      "outputs": []
    },
    {
      "cell_type": "code",
      "metadata": {
        "id": "eZz5hz5vpUGw"
      },
      "source": [
        "from sklearn.ensemble import RandomForestClassifier\n",
        "\n",
        "randomForestClassification = RandomForestClassifier(n_estimators=100,random_state=259)\n",
        "randomForestClassification.fit(X_train, y_train)\n",
        "y_pred = randomForestClassification.predict(X_test)"
      ],
      "execution_count": 75,
      "outputs": []
    },
    {
      "cell_type": "code",
      "metadata": {
        "id": "mOsjkF4upWvE",
        "colab": {
          "base_uri": "https://localhost:8080/"
        },
        "outputId": "7b51aef0-08a7-4881-c873-6b47481f0a64"
      },
      "source": [
        "pd.Series(y_pred).value_counts()"
      ],
      "execution_count": 76,
      "outputs": [
        {
          "output_type": "execute_result",
          "data": {
            "text/plain": [
              "1    853\n",
              "0    757\n",
              "2    605\n",
              "dtype: int64"
            ]
          },
          "metadata": {
            "tags": []
          },
          "execution_count": 76
        }
      ]
    },
    {
      "cell_type": "code",
      "metadata": {
        "id": "6e13PmTipZKm",
        "colab": {
          "base_uri": "https://localhost:8080/"
        },
        "outputId": "022790f6-3bad-4115-efab-9b07637eeada"
      },
      "source": [
        "from sklearn.metrics import classification_report, confusion_matrix, accuracy_score\n",
        "\n",
        "# print(confusion_matrix(y_test,y_pred))\n",
        "print(classification_report(y_test,y_pred))\n",
        "print(accuracy_score(y_test, y_pred))"
      ],
      "execution_count": 77,
      "outputs": [
        {
          "output_type": "stream",
          "text": [
            "              precision    recall  f1-score   support\n",
            "\n",
            "           0       0.76      0.78      0.77       742\n",
            "           1       0.98      1.00      0.99       840\n",
            "           2       0.74      0.71      0.73       633\n",
            "\n",
            "    accuracy                           0.84      2215\n",
            "   macro avg       0.83      0.83      0.83      2215\n",
            "weighted avg       0.84      0.84      0.84      2215\n",
            "\n",
            "0.8433408577878104\n"
          ],
          "name": "stdout"
        }
      ]
    },
    {
      "cell_type": "code",
      "metadata": {
        "id": "DQQMwO7dpdm4",
        "colab": {
          "base_uri": "https://localhost:8080/"
        },
        "outputId": "797b6710-70ba-4b0b-ca14-b3fe1e69dcf2"
      },
      "source": [
        "randomForestClassification.feature_importances_"
      ],
      "execution_count": 78,
      "outputs": [
        {
          "output_type": "execute_result",
          "data": {
            "text/plain": [
              "array([0.09079041, 0.11876763, 0.17335743, 0.52255733, 0.0945272 ])"
            ]
          },
          "metadata": {
            "tags": []
          },
          "execution_count": 78
        }
      ]
    },
    {
      "cell_type": "markdown",
      "metadata": {
        "id": "DLwjohnhp3qf"
      },
      "source": [
        "##SVM ALGORITHM - Support Vector Machine / Classification¶"
      ]
    },
    {
      "cell_type": "code",
      "metadata": {
        "id": "w-zVHDTnpgTJ"
      },
      "source": [
        "\n",
        "# X = normalized_x\n",
        "# y = le.fit_transform(y)"
      ],
      "execution_count": 79,
      "outputs": []
    },
    {
      "cell_type": "code",
      "metadata": {
        "id": "pymf-K0ApoXG",
        "colab": {
          "base_uri": "https://localhost:8080/"
        },
        "outputId": "7c77c6e9-e994-4cd1-bea4-76b8c6539e85"
      },
      "source": [
        "from sklearn.svm import SVC # \"Support Vector Classifier\" \n",
        "clf = SVC(kernel='linear') \n",
        "  \n",
        "# fitting x samples and y classes \n",
        "clf.fit(X, y)"
      ],
      "execution_count": 80,
      "outputs": [
        {
          "output_type": "execute_result",
          "data": {
            "text/plain": [
              "SVC(C=1.0, break_ties=False, cache_size=200, class_weight=None, coef0=0.0,\n",
              "    decision_function_shape='ovr', degree=3, gamma='scale', kernel='linear',\n",
              "    max_iter=-1, probability=False, random_state=None, shrinking=True,\n",
              "    tol=0.001, verbose=False)"
            ]
          },
          "metadata": {
            "tags": []
          },
          "execution_count": 80
        }
      ]
    },
    {
      "cell_type": "code",
      "metadata": {
        "id": "zgjBV3WOpq0K",
        "colab": {
          "base_uri": "https://localhost:8080/"
        },
        "outputId": "19a74ffa-4e7a-4cc6-fbed-bb6e309d54e8"
      },
      "source": [
        "print(classification_report(y_test, predictions))\n",
        "print(accuracy_score(y_test, predictions))"
      ],
      "execution_count": 81,
      "outputs": [
        {
          "output_type": "stream",
          "text": [
            "              precision    recall  f1-score   support\n",
            "\n",
            "           0       0.32      0.29      0.30       742\n",
            "           1       0.38      0.70      0.49       840\n",
            "           2       0.00      0.00      0.00       633\n",
            "\n",
            "    accuracy                           0.36      2215\n",
            "   macro avg       0.23      0.33      0.26      2215\n",
            "weighted avg       0.25      0.36      0.29      2215\n",
            "\n",
            "0.36027088036117383\n"
          ],
          "name": "stdout"
        },
        {
          "output_type": "stream",
          "text": [
            "/usr/local/lib/python3.7/dist-packages/sklearn/metrics/_classification.py:1272: UndefinedMetricWarning: Precision and F-score are ill-defined and being set to 0.0 in labels with no predicted samples. Use `zero_division` parameter to control this behavior.\n",
            "  _warn_prf(average, modifier, msg_start, len(result))\n"
          ],
          "name": "stderr"
        }
      ]
    },
    {
      "cell_type": "markdown",
      "metadata": {
        "id": "oMqQn3fArsVw"
      },
      "source": [
        ""
      ]
    },
    {
      "cell_type": "markdown",
      "metadata": {
        "id": "tFG7D5qQrqi-"
      },
      "source": [
        ""
      ]
    },
    {
      "cell_type": "markdown",
      "metadata": {
        "id": "PBTJU8yfr2Kl"
      },
      "source": [
        "##Therefore, here we can see that Random Forest Algorithm gives the best Accuracy(84%)"
      ]
    },
    {
      "cell_type": "markdown",
      "metadata": {
        "id": "U1vguBUZqA5q"
      },
      "source": [
        ""
      ]
    }
  ]
}